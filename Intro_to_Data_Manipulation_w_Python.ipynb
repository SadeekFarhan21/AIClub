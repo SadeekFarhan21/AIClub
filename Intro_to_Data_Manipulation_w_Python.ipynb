{
  "cells": [
    {
      "cell_type": "markdown",
      "metadata": {
        "id": "view-in-github",
        "colab_type": "text"
      },
      "source": [
        "<a href=\"https://colab.research.google.com/github/SadeekFarhan21/AIClub/blob/main/Intro_to_Data_Manipulation_w_Python.ipynb\" target=\"_parent\"><img src=\"https://colab.research.google.com/assets/colab-badge.svg\" alt=\"Open In Colab\"/></a>"
      ]
    },
    {
      "cell_type": "markdown",
      "metadata": {
        "id": "nn-uz4A-R26w"
      },
      "source": [
        "# IMPORTANT\n",
        "\n",
        "Make sure to make a personal copy of this notebook before making any changes or altering this notebook.\n",
        "\n",
        "Go to:\n",
        "\n",
        "File > Save a Copy in Drive\n",
        "\n"
      ]
    },
    {
      "cell_type": "markdown",
      "metadata": {
        "id": "TZRmyiDopWvN"
      },
      "source": [
        "# Colab Introduction\n",
        "\n",
        "\n",
        "> Here is a quick crash course on how code cells work in google colab\n",
        "\n",
        "\n",
        "\n"
      ]
    },
    {
      "cell_type": "code",
      "execution_count": null,
      "metadata": {
        "colab": {
          "base_uri": "https://localhost:8080/"
        },
        "id": "FzH9sS8ApqVY",
        "outputId": "b9508123-4061-4ae4-b97e-e2a4f8db875f"
      },
      "outputs": [
        {
          "data": {
            "text/plain": [
              "10"
            ]
          },
          "execution_count": 1,
          "metadata": {
            "tags": []
          },
          "output_type": "execute_result"
        }
      ],
      "source": [
        "#This is a code chunk\n",
        "\n",
        "5 + 5"
      ]
    },
    {
      "cell_type": "code",
      "execution_count": null,
      "metadata": {
        "id": "vQI6WWDPiQur"
      },
      "outputs": [],
      "source": []
    },
    {
      "cell_type": "markdown",
      "metadata": {
        "id": "Hg3p9UAHiRnQ"
      },
      "source": []
    },
    {
      "cell_type": "code",
      "execution_count": null,
      "metadata": {
        "colab": {
          "base_uri": "https://localhost:8080/"
        },
        "id": "nvkiMaxAp9dD",
        "outputId": "5744c234-e0ea-467b-f5a2-d96a205468bd"
      },
      "outputs": [
        {
          "data": {
            "text/plain": [
              "5"
            ]
          },
          "execution_count": 2,
          "metadata": {
            "tags": []
          },
          "output_type": "execute_result"
        }
      ],
      "source": [
        "#We can type multiple commands in one chunk\n",
        "\n",
        "\n",
        "6 + 7\n",
        "\n",
        "8 + 4\n",
        "\n",
        "3 + 2"
      ]
    },
    {
      "cell_type": "code",
      "execution_count": null,
      "metadata": {
        "colab": {
          "base_uri": "https://localhost:8080/"
        },
        "id": "mHqfyoxcp1yv",
        "outputId": "514df409-a880-4716-ad03-0772a320195d"
      },
      "outputs": [
        {
          "name": "stdout",
          "output_type": "stream",
          "text": [
            "12\n"
          ]
        }
      ],
      "source": [
        "print(6 + 6)"
      ]
    },
    {
      "cell_type": "code",
      "execution_count": null,
      "metadata": {
        "colab": {
          "base_uri": "https://localhost:8080/"
        },
        "id": "EuY6kLUDp5GD",
        "outputId": "f35f143a-545c-4e5d-b2cf-adce71124007"
      },
      "outputs": [
        {
          "data": {
            "text/plain": [
              "5"
            ]
          },
          "execution_count": 4,
          "metadata": {
            "tags": []
          },
          "output_type": "execute_result"
        }
      ],
      "source": [
        "#the first printing method will only print the most recent command in the chunk\n",
        "\n",
        "6 + 7\n",
        "\n",
        "8 + 4\n",
        "\n",
        "3 + 2\n"
      ]
    },
    {
      "cell_type": "code",
      "execution_count": null,
      "metadata": {
        "colab": {
          "base_uri": "https://localhost:8080/"
        },
        "id": "kSUasQNCqKvD",
        "outputId": "872334b9-715e-4e43-f220-95daf97fe255"
      },
      "outputs": [
        {
          "name": "stdout",
          "output_type": "stream",
          "text": [
            "13\n",
            "12\n",
            "5\n"
          ]
        }
      ],
      "source": [
        "#The print() method will print all commands in the chunk\n",
        "\n",
        "\n",
        "\n",
        "print(6 + 7)\n",
        "\n",
        "print(8 + 4)\n",
        "\n",
        "print(3 + 2)\n"
      ]
    },
    {
      "cell_type": "markdown",
      "metadata": {
        "id": "R97v23Nj9drH"
      },
      "source": [
        "\n",
        "\n",
        "```\n",
        "# This is formatted as code\n",
        "```\n",
        "\n",
        "# Importing Packages\n",
        "\n",
        "\n",
        "> In order to use pandas, we must import it into our environment\n",
        "The common syntax for importing any package is:\n",
        "\n",
        "\timport my_package as alias_name\n",
        "\n",
        "The alias_name refers to the short hand used when calling functions\n",
        "alias_name.function()\n",
        "\n",
        "\n"
      ]
    },
    {
      "cell_type": "code",
      "source": [
        "!pip ins tall pandas"
      ],
      "metadata": {
        "id": "twvbTHToQxWp"
      },
      "execution_count": null,
      "outputs": []
    },
    {
      "cell_type": "code",
      "execution_count": null,
      "metadata": {
        "id": "R5zbVoXf9ySg"
      },
      "outputs": [],
      "source": [
        "#import pandas package\n",
        "import pandas as pd\n",
        "\n"
      ]
    },
    {
      "cell_type": "markdown",
      "metadata": {
        "id": "xctKWFpuwQ-v"
      },
      "source": [
        "# Importing Data\n",
        "\n",
        "\n",
        " > In Python, our dataset comes in the file format \".csv\". In order to read this into the environment we must first tell google colab to upload it from our file system with the following code:\n",
        "\n",
        "\n",
        "\n",
        "```\n",
        "from google.colab import files\n",
        "uploaded = files.upload()\n",
        "\n",
        "```\n",
        "\n",
        "\n",
        "# Reading Data\n",
        "\n",
        "> Now that we have the data in our environment, now we can use pandas to read it into our cells using the following function:\n",
        "\n",
        "```\n",
        "\n",
        "df = pd.read_csv('filepath.csv')\n",
        "\n",
        "```\n",
        "\n",
        "\n",
        "\n"
      ]
    },
    {
      "cell_type": "code",
      "execution_count": null,
      "metadata": {
        "colab": {
          "base_uri": "https://localhost:8080/",
          "height": 39,
          "resources": {
            "http://localhost:8080/nbextensions/google.colab/files.js": {
              "data": "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",
              "headers": [
                [
                  "content-type",
                  "application/javascript"
                ]
              ],
              "ok": true,
              "status": 200,
              "status_text": "OK"
            }
          }
        },
        "id": "jXpx77sw92Eu",
        "outputId": "935ef5ad-88b2-42d3-e66d-51c0297a50c7"
      },
      "outputs": [
        {
          "output_type": "display_data",
          "data": {
            "text/html": [
              "\n",
              "     <input type=\"file\" id=\"files-400a5cf5-fc45-4fa7-8336-9ca46dface48\" name=\"files[]\" multiple disabled\n",
              "        style=\"border:none\" />\n",
              "     <output id=\"result-400a5cf5-fc45-4fa7-8336-9ca46dface48\">\n",
              "      Upload widget is only available when the cell has been executed in the\n",
              "      current browser session. Please rerun this cell to enable.\n",
              "      </output>\n",
              "      <script src=\"/nbextensions/google.colab/files.js\"></script> "
            ],
            "text/plain": [
              "<IPython.core.display.HTML object>"
            ]
          },
          "metadata": {}
        }
      ],
      "source": [
        "from google.colab import files\n",
        "uploaded = files.upload()"
      ]
    },
    {
      "cell_type": "code",
      "execution_count": null,
      "metadata": {
        "id": "sm2H2ir9x7jY"
      },
      "outputs": [],
      "source": [
        "#read in coffee data with read_csv()\n",
        "\n",
        "df = pd.read_csv('/content/starbucks_drinkMenu_expanded.csv')\n"
      ]
    },
    {
      "cell_type": "code",
      "execution_count": null,
      "metadata": {
        "id": "0jxgS0GuWOA0"
      },
      "outputs": [],
      "source": []
    },
    {
      "cell_type": "code",
      "execution_count": null,
      "metadata": {
        "colab": {
          "base_uri": "https://localhost:8080/",
          "height": 843
        },
        "id": "ZHZ4gIvlyD4D",
        "outputId": "8beb6dd7-3921-411f-e0ae-82aaa3c41a77"
      },
      "outputs": [
        {
          "data": {
            "text/html": [
              "<div>\n",
              "<style scoped>\n",
              "    .dataframe tbody tr th:only-of-type {\n",
              "        vertical-align: middle;\n",
              "    }\n",
              "\n",
              "    .dataframe tbody tr th {\n",
              "        vertical-align: top;\n",
              "    }\n",
              "\n",
              "    .dataframe thead th {\n",
              "        text-align: right;\n",
              "    }\n",
              "</style>\n",
              "<table border=\"1\" class=\"dataframe\">\n",
              "  <thead>\n",
              "    <tr style=\"text-align: right;\">\n",
              "      <th></th>\n",
              "      <th>Beverage_category</th>\n",
              "      <th>Beverage</th>\n",
              "      <th>Beverage_prep</th>\n",
              "      <th>Calories</th>\n",
              "      <th>Total Fat (g)</th>\n",
              "      <th>Trans Fat (g)</th>\n",
              "      <th>Saturated Fat (g)</th>\n",
              "      <th>Sodium (mg)</th>\n",
              "      <th>Total Carbohydrates (g)</th>\n",
              "      <th>Cholesterol (mg)</th>\n",
              "      <th>Dietary Fibre (g)</th>\n",
              "      <th>Sugars (g)</th>\n",
              "      <th>Protein (g)</th>\n",
              "      <th>Vitamin A (% DV)</th>\n",
              "      <th>Vitamin C (% DV)</th>\n",
              "      <th>Calcium (% DV)</th>\n",
              "      <th>Iron (% DV)</th>\n",
              "      <th>Caffeine (mg)</th>\n",
              "    </tr>\n",
              "  </thead>\n",
              "  <tbody>\n",
              "    <tr>\n",
              "      <th>0</th>\n",
              "      <td>Coffee</td>\n",
              "      <td>Brewed Coffee</td>\n",
              "      <td>Short</td>\n",
              "      <td>3</td>\n",
              "      <td>0.1</td>\n",
              "      <td>0.0</td>\n",
              "      <td>0.0</td>\n",
              "      <td>0</td>\n",
              "      <td>5</td>\n",
              "      <td>0</td>\n",
              "      <td>0</td>\n",
              "      <td>0</td>\n",
              "      <td>0.3</td>\n",
              "      <td>0%</td>\n",
              "      <td>0%</td>\n",
              "      <td>0%</td>\n",
              "      <td>0%</td>\n",
              "      <td>175</td>\n",
              "    </tr>\n",
              "    <tr>\n",
              "      <th>1</th>\n",
              "      <td>Coffee</td>\n",
              "      <td>Brewed Coffee</td>\n",
              "      <td>Tall</td>\n",
              "      <td>4</td>\n",
              "      <td>0.1</td>\n",
              "      <td>0.0</td>\n",
              "      <td>0.0</td>\n",
              "      <td>0</td>\n",
              "      <td>10</td>\n",
              "      <td>0</td>\n",
              "      <td>0</td>\n",
              "      <td>0</td>\n",
              "      <td>0.5</td>\n",
              "      <td>0%</td>\n",
              "      <td>0%</td>\n",
              "      <td>0%</td>\n",
              "      <td>0%</td>\n",
              "      <td>260</td>\n",
              "    </tr>\n",
              "    <tr>\n",
              "      <th>2</th>\n",
              "      <td>Coffee</td>\n",
              "      <td>Brewed Coffee</td>\n",
              "      <td>Grande</td>\n",
              "      <td>5</td>\n",
              "      <td>0.1</td>\n",
              "      <td>0.0</td>\n",
              "      <td>0.0</td>\n",
              "      <td>0</td>\n",
              "      <td>10</td>\n",
              "      <td>0</td>\n",
              "      <td>0</td>\n",
              "      <td>0</td>\n",
              "      <td>1.0</td>\n",
              "      <td>0%</td>\n",
              "      <td>0%</td>\n",
              "      <td>0%</td>\n",
              "      <td>0%</td>\n",
              "      <td>330</td>\n",
              "    </tr>\n",
              "    <tr>\n",
              "      <th>3</th>\n",
              "      <td>Coffee</td>\n",
              "      <td>Brewed Coffee</td>\n",
              "      <td>Venti</td>\n",
              "      <td>5</td>\n",
              "      <td>0.1</td>\n",
              "      <td>0.0</td>\n",
              "      <td>0.0</td>\n",
              "      <td>0</td>\n",
              "      <td>10</td>\n",
              "      <td>0</td>\n",
              "      <td>0</td>\n",
              "      <td>0</td>\n",
              "      <td>1.0</td>\n",
              "      <td>0%</td>\n",
              "      <td>0%</td>\n",
              "      <td>2%</td>\n",
              "      <td>0%</td>\n",
              "      <td>410</td>\n",
              "    </tr>\n",
              "    <tr>\n",
              "      <th>4</th>\n",
              "      <td>Classic Espresso Drinks</td>\n",
              "      <td>Caffè Latte</td>\n",
              "      <td>Short Nonfat Milk</td>\n",
              "      <td>70</td>\n",
              "      <td>0.1</td>\n",
              "      <td>0.1</td>\n",
              "      <td>0.0</td>\n",
              "      <td>5</td>\n",
              "      <td>75</td>\n",
              "      <td>10</td>\n",
              "      <td>0</td>\n",
              "      <td>9</td>\n",
              "      <td>6.0</td>\n",
              "      <td>10%</td>\n",
              "      <td>0%</td>\n",
              "      <td>20%</td>\n",
              "      <td>0%</td>\n",
              "      <td>75</td>\n",
              "    </tr>\n",
              "    <tr>\n",
              "      <th>...</th>\n",
              "      <td>...</td>\n",
              "      <td>...</td>\n",
              "      <td>...</td>\n",
              "      <td>...</td>\n",
              "      <td>...</td>\n",
              "      <td>...</td>\n",
              "      <td>...</td>\n",
              "      <td>...</td>\n",
              "      <td>...</td>\n",
              "      <td>...</td>\n",
              "      <td>...</td>\n",
              "      <td>...</td>\n",
              "      <td>...</td>\n",
              "      <td>...</td>\n",
              "      <td>...</td>\n",
              "      <td>...</td>\n",
              "      <td>...</td>\n",
              "      <td>...</td>\n",
              "    </tr>\n",
              "    <tr>\n",
              "      <th>237</th>\n",
              "      <td>Frappuccino® Blended Crème</td>\n",
              "      <td>Strawberries &amp; Crème (Without Whipped Cream)</td>\n",
              "      <td>Soymilk</td>\n",
              "      <td>320</td>\n",
              "      <td>3 2</td>\n",
              "      <td>0.4</td>\n",
              "      <td>0.0</td>\n",
              "      <td>0</td>\n",
              "      <td>250</td>\n",
              "      <td>67</td>\n",
              "      <td>1</td>\n",
              "      <td>64</td>\n",
              "      <td>5.0</td>\n",
              "      <td>6%</td>\n",
              "      <td>8%</td>\n",
              "      <td>20%</td>\n",
              "      <td>10%</td>\n",
              "      <td>0</td>\n",
              "    </tr>\n",
              "    <tr>\n",
              "      <th>238</th>\n",
              "      <td>Frappuccino® Blended Crème</td>\n",
              "      <td>Vanilla Bean (Without Whipped Cream)</td>\n",
              "      <td>Tall Nonfat Milk</td>\n",
              "      <td>170</td>\n",
              "      <td>0.1</td>\n",
              "      <td>0.1</td>\n",
              "      <td>0.0</td>\n",
              "      <td>0</td>\n",
              "      <td>160</td>\n",
              "      <td>39</td>\n",
              "      <td>0</td>\n",
              "      <td>38</td>\n",
              "      <td>4.0</td>\n",
              "      <td>6%</td>\n",
              "      <td>0%</td>\n",
              "      <td>10%</td>\n",
              "      <td>0%</td>\n",
              "      <td>0</td>\n",
              "    </tr>\n",
              "    <tr>\n",
              "      <th>239</th>\n",
              "      <td>Frappuccino® Blended Crème</td>\n",
              "      <td>Vanilla Bean (Without Whipped Cream)</td>\n",
              "      <td>Whole Milk</td>\n",
              "      <td>200</td>\n",
              "      <td>3.5</td>\n",
              "      <td>2.0</td>\n",
              "      <td>0.1</td>\n",
              "      <td>10</td>\n",
              "      <td>160</td>\n",
              "      <td>39</td>\n",
              "      <td>0</td>\n",
              "      <td>38</td>\n",
              "      <td>3.0</td>\n",
              "      <td>6%</td>\n",
              "      <td>0%</td>\n",
              "      <td>10%</td>\n",
              "      <td>0%</td>\n",
              "      <td>0</td>\n",
              "    </tr>\n",
              "    <tr>\n",
              "      <th>240</th>\n",
              "      <td>Frappuccino® Blended Crème</td>\n",
              "      <td>Vanilla Bean (Without Whipped Cream)</td>\n",
              "      <td>Soymilk</td>\n",
              "      <td>180</td>\n",
              "      <td>1.5</td>\n",
              "      <td>0.2</td>\n",
              "      <td>0.0</td>\n",
              "      <td>0</td>\n",
              "      <td>160</td>\n",
              "      <td>37</td>\n",
              "      <td>1</td>\n",
              "      <td>35</td>\n",
              "      <td>3.0</td>\n",
              "      <td>4%</td>\n",
              "      <td>0%</td>\n",
              "      <td>10%</td>\n",
              "      <td>6%</td>\n",
              "      <td>0</td>\n",
              "    </tr>\n",
              "    <tr>\n",
              "      <th>241</th>\n",
              "      <td>Frappuccino® Blended Crème</td>\n",
              "      <td>Vanilla Bean (Without Whipped Cream)</td>\n",
              "      <td>Grande Nonfat Milk</td>\n",
              "      <td>240</td>\n",
              "      <td>0.1</td>\n",
              "      <td>0.1</td>\n",
              "      <td>0.0</td>\n",
              "      <td>5</td>\n",
              "      <td>230</td>\n",
              "      <td>56</td>\n",
              "      <td>0</td>\n",
              "      <td>55</td>\n",
              "      <td>5.0</td>\n",
              "      <td>8%</td>\n",
              "      <td>0%</td>\n",
              "      <td>15%</td>\n",
              "      <td>0%</td>\n",
              "      <td>0</td>\n",
              "    </tr>\n",
              "  </tbody>\n",
              "</table>\n",
              "<p>242 rows × 18 columns</p>\n",
              "</div>"
            ],
            "text/plain": [
              "              Beverage_category  ... Caffeine (mg)\n",
              "0                        Coffee  ...           175\n",
              "1                        Coffee  ...           260\n",
              "2                        Coffee  ...           330\n",
              "3                        Coffee  ...           410\n",
              "4       Classic Espresso Drinks  ...            75\n",
              "..                          ...  ...           ...\n",
              "237  Frappuccino® Blended Crème  ...             0\n",
              "238  Frappuccino® Blended Crème  ...             0\n",
              "239  Frappuccino® Blended Crème  ...             0\n",
              "240  Frappuccino® Blended Crème  ...             0\n",
              "241  Frappuccino® Blended Crème  ...             0\n",
              "\n",
              "[242 rows x 18 columns]"
            ]
          },
          "execution_count": 10,
          "metadata": {},
          "output_type": "execute_result"
        }
      ],
      "source": [
        "#print dataframe\n",
        "\n",
        "df\n",
        "\n",
        "\n"
      ]
    },
    {
      "cell_type": "markdown",
      "metadata": {
        "id": "7epJLP-9DCSQ"
      },
      "source": [
        "# Selecting a Column\n",
        "\n",
        "> In order to access columns in our dataframe, we can treat our dataframe object as an array we can index into:\n",
        "\n",
        "\n",
        "```\n",
        "# Return column of a dataframe\n",
        "\n",
        "df['column_name']\n",
        "```\n",
        ">With this method, we can pass in the exact string name of our column in order to index it from our dataframe. With this method, we can guarantee that a column will be returned for any unique column name.\n",
        "\n",
        "\n",
        "\n",
        "\n",
        "> A second way of accessing columns in a dataframe, is to treat the dataframe as if it has properties. The properties of the dataset can be accessed by chaining functions together as repeated objects:\n",
        "\n",
        "\n",
        "```\n",
        "# Return column of a dataframe\n",
        "\n",
        "df.column_name\n",
        "```\n",
        ">While this method is an alternative to the previous method, it can't always guarantee a column, due to its inability to deal with column names with spaces.\n",
        "\n",
        "Ex.\n",
        "\n",
        "\n",
        "\n",
        "```\n",
        "# This code returns an error\n",
        "\n",
        "\"column name\"\n",
        "\n",
        "df.column name\n",
        "\n",
        "\n",
        "```\n",
        ">Since \"column name\" has a space between it, we cannot use the '.' operator to retrieve the column.\n",
        "\n",
        "\n",
        "\n",
        "\n"
      ]
    },
    {
      "cell_type": "code",
      "execution_count": null,
      "metadata": {
        "colab": {
          "base_uri": "https://localhost:8080/",
          "height": 843
        },
        "id": "oNFsuDd5-MQA",
        "outputId": "d8b07920-3b52-496c-acb7-a76f7aa8669f"
      },
      "outputs": [
        {
          "data": {
            "text/html": [
              "<div>\n",
              "<style scoped>\n",
              "    .dataframe tbody tr th:only-of-type {\n",
              "        vertical-align: middle;\n",
              "    }\n",
              "\n",
              "    .dataframe tbody tr th {\n",
              "        vertical-align: top;\n",
              "    }\n",
              "\n",
              "    .dataframe thead th {\n",
              "        text-align: right;\n",
              "    }\n",
              "</style>\n",
              "<table border=\"1\" class=\"dataframe\">\n",
              "  <thead>\n",
              "    <tr style=\"text-align: right;\">\n",
              "      <th></th>\n",
              "      <th>Beverage_category</th>\n",
              "      <th>Beverage</th>\n",
              "      <th>Beverage_prep</th>\n",
              "      <th>Calories</th>\n",
              "      <th>Total Fat (g)</th>\n",
              "      <th>Trans Fat (g)</th>\n",
              "      <th>Saturated Fat (g)</th>\n",
              "      <th>Sodium (mg)</th>\n",
              "      <th>Total Carbohydrates (g)</th>\n",
              "      <th>Cholesterol (mg)</th>\n",
              "      <th>Dietary Fibre (g)</th>\n",
              "      <th>Sugars (g)</th>\n",
              "      <th>Protein (g)</th>\n",
              "      <th>Vitamin A (% DV)</th>\n",
              "      <th>Vitamin C (% DV)</th>\n",
              "      <th>Calcium (% DV)</th>\n",
              "      <th>Iron (% DV)</th>\n",
              "      <th>Caffeine (mg)</th>\n",
              "    </tr>\n",
              "  </thead>\n",
              "  <tbody>\n",
              "    <tr>\n",
              "      <th>0</th>\n",
              "      <td>Coffee</td>\n",
              "      <td>Brewed Coffee</td>\n",
              "      <td>Short</td>\n",
              "      <td>3</td>\n",
              "      <td>0.1</td>\n",
              "      <td>0.0</td>\n",
              "      <td>0.0</td>\n",
              "      <td>0</td>\n",
              "      <td>5</td>\n",
              "      <td>0</td>\n",
              "      <td>0</td>\n",
              "      <td>0</td>\n",
              "      <td>0.3</td>\n",
              "      <td>0%</td>\n",
              "      <td>0%</td>\n",
              "      <td>0%</td>\n",
              "      <td>0%</td>\n",
              "      <td>175</td>\n",
              "    </tr>\n",
              "    <tr>\n",
              "      <th>1</th>\n",
              "      <td>Coffee</td>\n",
              "      <td>Brewed Coffee</td>\n",
              "      <td>Tall</td>\n",
              "      <td>4</td>\n",
              "      <td>0.1</td>\n",
              "      <td>0.0</td>\n",
              "      <td>0.0</td>\n",
              "      <td>0</td>\n",
              "      <td>10</td>\n",
              "      <td>0</td>\n",
              "      <td>0</td>\n",
              "      <td>0</td>\n",
              "      <td>0.5</td>\n",
              "      <td>0%</td>\n",
              "      <td>0%</td>\n",
              "      <td>0%</td>\n",
              "      <td>0%</td>\n",
              "      <td>260</td>\n",
              "    </tr>\n",
              "    <tr>\n",
              "      <th>2</th>\n",
              "      <td>Coffee</td>\n",
              "      <td>Brewed Coffee</td>\n",
              "      <td>Grande</td>\n",
              "      <td>5</td>\n",
              "      <td>0.1</td>\n",
              "      <td>0.0</td>\n",
              "      <td>0.0</td>\n",
              "      <td>0</td>\n",
              "      <td>10</td>\n",
              "      <td>0</td>\n",
              "      <td>0</td>\n",
              "      <td>0</td>\n",
              "      <td>1.0</td>\n",
              "      <td>0%</td>\n",
              "      <td>0%</td>\n",
              "      <td>0%</td>\n",
              "      <td>0%</td>\n",
              "      <td>330</td>\n",
              "    </tr>\n",
              "    <tr>\n",
              "      <th>3</th>\n",
              "      <td>Coffee</td>\n",
              "      <td>Brewed Coffee</td>\n",
              "      <td>Venti</td>\n",
              "      <td>5</td>\n",
              "      <td>0.1</td>\n",
              "      <td>0.0</td>\n",
              "      <td>0.0</td>\n",
              "      <td>0</td>\n",
              "      <td>10</td>\n",
              "      <td>0</td>\n",
              "      <td>0</td>\n",
              "      <td>0</td>\n",
              "      <td>1.0</td>\n",
              "      <td>0%</td>\n",
              "      <td>0%</td>\n",
              "      <td>2%</td>\n",
              "      <td>0%</td>\n",
              "      <td>410</td>\n",
              "    </tr>\n",
              "    <tr>\n",
              "      <th>4</th>\n",
              "      <td>Classic Espresso Drinks</td>\n",
              "      <td>Caffè Latte</td>\n",
              "      <td>Short Nonfat Milk</td>\n",
              "      <td>70</td>\n",
              "      <td>0.1</td>\n",
              "      <td>0.1</td>\n",
              "      <td>0.0</td>\n",
              "      <td>5</td>\n",
              "      <td>75</td>\n",
              "      <td>10</td>\n",
              "      <td>0</td>\n",
              "      <td>9</td>\n",
              "      <td>6.0</td>\n",
              "      <td>10%</td>\n",
              "      <td>0%</td>\n",
              "      <td>20%</td>\n",
              "      <td>0%</td>\n",
              "      <td>75</td>\n",
              "    </tr>\n",
              "    <tr>\n",
              "      <th>...</th>\n",
              "      <td>...</td>\n",
              "      <td>...</td>\n",
              "      <td>...</td>\n",
              "      <td>...</td>\n",
              "      <td>...</td>\n",
              "      <td>...</td>\n",
              "      <td>...</td>\n",
              "      <td>...</td>\n",
              "      <td>...</td>\n",
              "      <td>...</td>\n",
              "      <td>...</td>\n",
              "      <td>...</td>\n",
              "      <td>...</td>\n",
              "      <td>...</td>\n",
              "      <td>...</td>\n",
              "      <td>...</td>\n",
              "      <td>...</td>\n",
              "      <td>...</td>\n",
              "    </tr>\n",
              "    <tr>\n",
              "      <th>237</th>\n",
              "      <td>Frappuccino® Blended Crème</td>\n",
              "      <td>Strawberries &amp; Crème (Without Whipped Cream)</td>\n",
              "      <td>Soymilk</td>\n",
              "      <td>320</td>\n",
              "      <td>3 2</td>\n",
              "      <td>0.4</td>\n",
              "      <td>0.0</td>\n",
              "      <td>0</td>\n",
              "      <td>250</td>\n",
              "      <td>67</td>\n",
              "      <td>1</td>\n",
              "      <td>64</td>\n",
              "      <td>5.0</td>\n",
              "      <td>6%</td>\n",
              "      <td>8%</td>\n",
              "      <td>20%</td>\n",
              "      <td>10%</td>\n",
              "      <td>0</td>\n",
              "    </tr>\n",
              "    <tr>\n",
              "      <th>238</th>\n",
              "      <td>Frappuccino® Blended Crème</td>\n",
              "      <td>Vanilla Bean (Without Whipped Cream)</td>\n",
              "      <td>Tall Nonfat Milk</td>\n",
              "      <td>170</td>\n",
              "      <td>0.1</td>\n",
              "      <td>0.1</td>\n",
              "      <td>0.0</td>\n",
              "      <td>0</td>\n",
              "      <td>160</td>\n",
              "      <td>39</td>\n",
              "      <td>0</td>\n",
              "      <td>38</td>\n",
              "      <td>4.0</td>\n",
              "      <td>6%</td>\n",
              "      <td>0%</td>\n",
              "      <td>10%</td>\n",
              "      <td>0%</td>\n",
              "      <td>0</td>\n",
              "    </tr>\n",
              "    <tr>\n",
              "      <th>239</th>\n",
              "      <td>Frappuccino® Blended Crème</td>\n",
              "      <td>Vanilla Bean (Without Whipped Cream)</td>\n",
              "      <td>Whole Milk</td>\n",
              "      <td>200</td>\n",
              "      <td>3.5</td>\n",
              "      <td>2.0</td>\n",
              "      <td>0.1</td>\n",
              "      <td>10</td>\n",
              "      <td>160</td>\n",
              "      <td>39</td>\n",
              "      <td>0</td>\n",
              "      <td>38</td>\n",
              "      <td>3.0</td>\n",
              "      <td>6%</td>\n",
              "      <td>0%</td>\n",
              "      <td>10%</td>\n",
              "      <td>0%</td>\n",
              "      <td>0</td>\n",
              "    </tr>\n",
              "    <tr>\n",
              "      <th>240</th>\n",
              "      <td>Frappuccino® Blended Crème</td>\n",
              "      <td>Vanilla Bean (Without Whipped Cream)</td>\n",
              "      <td>Soymilk</td>\n",
              "      <td>180</td>\n",
              "      <td>1.5</td>\n",
              "      <td>0.2</td>\n",
              "      <td>0.0</td>\n",
              "      <td>0</td>\n",
              "      <td>160</td>\n",
              "      <td>37</td>\n",
              "      <td>1</td>\n",
              "      <td>35</td>\n",
              "      <td>3.0</td>\n",
              "      <td>4%</td>\n",
              "      <td>0%</td>\n",
              "      <td>10%</td>\n",
              "      <td>6%</td>\n",
              "      <td>0</td>\n",
              "    </tr>\n",
              "    <tr>\n",
              "      <th>241</th>\n",
              "      <td>Frappuccino® Blended Crème</td>\n",
              "      <td>Vanilla Bean (Without Whipped Cream)</td>\n",
              "      <td>Grande Nonfat Milk</td>\n",
              "      <td>240</td>\n",
              "      <td>0.1</td>\n",
              "      <td>0.1</td>\n",
              "      <td>0.0</td>\n",
              "      <td>5</td>\n",
              "      <td>230</td>\n",
              "      <td>56</td>\n",
              "      <td>0</td>\n",
              "      <td>55</td>\n",
              "      <td>5.0</td>\n",
              "      <td>8%</td>\n",
              "      <td>0%</td>\n",
              "      <td>15%</td>\n",
              "      <td>0%</td>\n",
              "      <td>0</td>\n",
              "    </tr>\n",
              "  </tbody>\n",
              "</table>\n",
              "<p>242 rows × 18 columns</p>\n",
              "</div>"
            ],
            "text/plain": [
              "              Beverage_category  ... Caffeine (mg)\n",
              "0                        Coffee  ...           175\n",
              "1                        Coffee  ...           260\n",
              "2                        Coffee  ...           330\n",
              "3                        Coffee  ...           410\n",
              "4       Classic Espresso Drinks  ...            75\n",
              "..                          ...  ...           ...\n",
              "237  Frappuccino® Blended Crème  ...             0\n",
              "238  Frappuccino® Blended Crème  ...             0\n",
              "239  Frappuccino® Blended Crème  ...             0\n",
              "240  Frappuccino® Blended Crème  ...             0\n",
              "241  Frappuccino® Blended Crème  ...             0\n",
              "\n",
              "[242 rows x 18 columns]"
            ]
          },
          "execution_count": 11,
          "metadata": {},
          "output_type": "execute_result"
        }
      ],
      "source": [
        "df"
      ]
    },
    {
      "cell_type": "code",
      "execution_count": null,
      "metadata": {
        "colab": {
          "base_uri": "https://localhost:8080/"
        },
        "id": "4-10QZnDC-6M",
        "outputId": "a15e9da0-6357-4d08-bb84-05af1bcf7aea"
      },
      "outputs": [
        {
          "data": {
            "text/plain": [
              "0                          Coffee\n",
              "1                          Coffee\n",
              "2                          Coffee\n",
              "3                          Coffee\n",
              "4         Classic Espresso Drinks\n",
              "                  ...            \n",
              "237    Frappuccino® Blended Crème\n",
              "238    Frappuccino® Blended Crème\n",
              "239    Frappuccino® Blended Crème\n",
              "240    Frappuccino® Blended Crème\n",
              "241    Frappuccino® Blended Crème\n",
              "Name: Beverage_category, Length: 242, dtype: object"
            ]
          },
          "execution_count": 12,
          "metadata": {},
          "output_type": "execute_result"
        }
      ],
      "source": [
        "#Return the \"Beverage_category\" column from the data using the string indexing method\n",
        "\n",
        "df['Beverage_category']"
      ]
    },
    {
      "cell_type": "code",
      "execution_count": null,
      "metadata": {
        "colab": {
          "base_uri": "https://localhost:8080/"
        },
        "id": "y9CqAGFvF16H",
        "outputId": "393bb5c6-b1b6-42a8-b802-6f0d95895cb3"
      },
      "outputs": [
        {
          "data": {
            "text/plain": [
              "0        3\n",
              "1        4\n",
              "2        5\n",
              "3        5\n",
              "4       70\n",
              "      ... \n",
              "237    320\n",
              "238    170\n",
              "239    200\n",
              "240    180\n",
              "241    240\n",
              "Name: Calories, Length: 242, dtype: int64"
            ]
          },
          "execution_count": 13,
          "metadata": {},
          "output_type": "execute_result"
        }
      ],
      "source": [
        "#Return the \"Calories\" column from the data using the '.' properties method\n",
        "\n",
        "df.Calories"
      ]
    },
    {
      "cell_type": "code",
      "execution_count": null,
      "metadata": {
        "colab": {
          "base_uri": "https://localhost:8080/",
          "height": 322
        },
        "id": "Fx53aHQ1GZKU",
        "outputId": "528fad7e-bc41-4f2e-8352-2e3e397c36c2"
      },
      "outputs": [
        {
          "ename": "AttributeError",
          "evalue": "ignored",
          "output_type": "error",
          "traceback": [
            "\u001b[0;31m---------------------------------------------------------------------------\u001b[0m",
            "\u001b[0;31mAttributeError\u001b[0m                            Traceback (most recent call last)",
            "\u001b[0;32m<ipython-input-14-f9fbe1b45b99>\u001b[0m in \u001b[0;36m<module>\u001b[0;34m()\u001b[0m\n\u001b[1;32m      1\u001b[0m \u001b[0;31m#Try and return the \"Cholesterol (mg)\" column from the data using the '.' properties method. What happens?\u001b[0m\u001b[0;34m\u001b[0m\u001b[0;34m\u001b[0m\u001b[0;34m\u001b[0m\u001b[0m\n\u001b[0;32m----> 2\u001b[0;31m \u001b[0mdf\u001b[0m\u001b[0;34m.\u001b[0m\u001b[0mCholesterol\u001b[0m \u001b[0;34m(\u001b[0m\u001b[0mmg\u001b[0m\u001b[0;34m)\u001b[0m\u001b[0;34m\u001b[0m\u001b[0;34m\u001b[0m\u001b[0m\n\u001b[0m",
            "\u001b[0;32m/usr/local/lib/python3.7/dist-packages/pandas/core/generic.py\u001b[0m in \u001b[0;36m__getattr__\u001b[0;34m(self, name)\u001b[0m\n\u001b[1;32m   5139\u001b[0m             \u001b[0;32mif\u001b[0m \u001b[0mself\u001b[0m\u001b[0;34m.\u001b[0m\u001b[0m_info_axis\u001b[0m\u001b[0;34m.\u001b[0m\u001b[0m_can_hold_identifiers_and_holds_name\u001b[0m\u001b[0;34m(\u001b[0m\u001b[0mname\u001b[0m\u001b[0;34m)\u001b[0m\u001b[0;34m:\u001b[0m\u001b[0;34m\u001b[0m\u001b[0;34m\u001b[0m\u001b[0m\n\u001b[1;32m   5140\u001b[0m                 \u001b[0;32mreturn\u001b[0m \u001b[0mself\u001b[0m\u001b[0;34m[\u001b[0m\u001b[0mname\u001b[0m\u001b[0;34m]\u001b[0m\u001b[0;34m\u001b[0m\u001b[0;34m\u001b[0m\u001b[0m\n\u001b[0;32m-> 5141\u001b[0;31m             \u001b[0;32mreturn\u001b[0m \u001b[0mobject\u001b[0m\u001b[0;34m.\u001b[0m\u001b[0m__getattribute__\u001b[0m\u001b[0;34m(\u001b[0m\u001b[0mself\u001b[0m\u001b[0;34m,\u001b[0m \u001b[0mname\u001b[0m\u001b[0;34m)\u001b[0m\u001b[0;34m\u001b[0m\u001b[0;34m\u001b[0m\u001b[0m\n\u001b[0m\u001b[1;32m   5142\u001b[0m \u001b[0;34m\u001b[0m\u001b[0m\n\u001b[1;32m   5143\u001b[0m     \u001b[0;32mdef\u001b[0m \u001b[0m__setattr__\u001b[0m\u001b[0;34m(\u001b[0m\u001b[0mself\u001b[0m\u001b[0;34m,\u001b[0m \u001b[0mname\u001b[0m\u001b[0;34m:\u001b[0m \u001b[0mstr\u001b[0m\u001b[0;34m,\u001b[0m \u001b[0mvalue\u001b[0m\u001b[0;34m)\u001b[0m \u001b[0;34m->\u001b[0m \u001b[0;32mNone\u001b[0m\u001b[0;34m:\u001b[0m\u001b[0;34m\u001b[0m\u001b[0;34m\u001b[0m\u001b[0m\n",
            "\u001b[0;31mAttributeError\u001b[0m: 'DataFrame' object has no attribute 'Cholesterol'"
          ]
        }
      ],
      "source": [
        "#Try and return the \"Cholesterol (mg)\" column from the data using the '.' properties method. What happens?\n",
        "df.Cholesterol (mg)\n"
      ]
    },
    {
      "cell_type": "code",
      "execution_count": null,
      "metadata": {
        "id": "0_x-AzA-GmuO"
      },
      "outputs": [],
      "source": [
        "#Retrieve the \"Cholesterol (mg)\" column from the data using an alternate method to avoid an error.\n",
        "\n",
        "df[\"Cholesterol (mg)\"]"
      ]
    },
    {
      "cell_type": "markdown",
      "metadata": {
        "id": "SeiLanPty_wE"
      },
      "source": [
        "# Inspecting Our Data\n",
        "\n",
        "\n",
        "> A great place to start when working on any data manipulation task is to inspect various features of your dataframe. Examples of the characteristics I discover are:\n",
        "\n",
        "\n",
        "*   first five rows\n",
        "*   last five rows\n",
        "*   shape of the data\n",
        "*   column properties\n",
        "*   summary statistics\n",
        "\n",
        "\n",
        "\n",
        "\n"
      ]
    },
    {
      "cell_type": "markdown",
      "metadata": {
        "id": "Wqu9kZwK0_hl"
      },
      "source": [
        "# Head and Tail\n",
        "\n",
        "> Checking the first and last five rows of the data can be done with the following pandas functions:\n",
        "\n",
        "```\n",
        "# Returns the first five rows\n",
        "df.head()\n",
        "\n",
        "\n",
        "#Returns the last five rows\n",
        "df.tail()\n",
        "```\n",
        "\n",
        "> This is a good way to get a sense of the variability of columns in your dataset, as well as how many rows of data you have."
      ]
    },
    {
      "cell_type": "code",
      "execution_count": null,
      "metadata": {
        "colab": {
          "base_uri": "https://localhost:8080/",
          "height": 347
        },
        "id": "8Xbrkk031m5H",
        "outputId": "55c7d289-5dd3-4ad0-d4b7-a62121ff75c5"
      },
      "outputs": [
        {
          "data": {
            "text/html": [
              "<div>\n",
              "<style scoped>\n",
              "    .dataframe tbody tr th:only-of-type {\n",
              "        vertical-align: middle;\n",
              "    }\n",
              "\n",
              "    .dataframe tbody tr th {\n",
              "        vertical-align: top;\n",
              "    }\n",
              "\n",
              "    .dataframe thead th {\n",
              "        text-align: right;\n",
              "    }\n",
              "</style>\n",
              "<table border=\"1\" class=\"dataframe\">\n",
              "  <thead>\n",
              "    <tr style=\"text-align: right;\">\n",
              "      <th></th>\n",
              "      <th>Beverage_category</th>\n",
              "      <th>Beverage</th>\n",
              "      <th>Beverage_prep</th>\n",
              "      <th>Calories</th>\n",
              "      <th>Total Fat (g)</th>\n",
              "      <th>Trans Fat (g)</th>\n",
              "      <th>Saturated Fat (g)</th>\n",
              "      <th>Sodium (mg)</th>\n",
              "      <th>Total Carbohydrates (g)</th>\n",
              "      <th>Cholesterol (mg)</th>\n",
              "      <th>Dietary Fibre (g)</th>\n",
              "      <th>Sugars (g)</th>\n",
              "      <th>Protein (g)</th>\n",
              "      <th>Vitamin A (% DV)</th>\n",
              "      <th>Vitamin C (% DV)</th>\n",
              "      <th>Calcium (% DV)</th>\n",
              "      <th>Iron (% DV)</th>\n",
              "      <th>Caffeine (mg)</th>\n",
              "    </tr>\n",
              "  </thead>\n",
              "  <tbody>\n",
              "    <tr>\n",
              "      <th>0</th>\n",
              "      <td>Coffee</td>\n",
              "      <td>Brewed Coffee</td>\n",
              "      <td>Short</td>\n",
              "      <td>3</td>\n",
              "      <td>0.1</td>\n",
              "      <td>0.0</td>\n",
              "      <td>0.0</td>\n",
              "      <td>0</td>\n",
              "      <td>5</td>\n",
              "      <td>0</td>\n",
              "      <td>0</td>\n",
              "      <td>0</td>\n",
              "      <td>0.3</td>\n",
              "      <td>0%</td>\n",
              "      <td>0%</td>\n",
              "      <td>0%</td>\n",
              "      <td>0%</td>\n",
              "      <td>175</td>\n",
              "    </tr>\n",
              "    <tr>\n",
              "      <th>1</th>\n",
              "      <td>Coffee</td>\n",
              "      <td>Brewed Coffee</td>\n",
              "      <td>Tall</td>\n",
              "      <td>4</td>\n",
              "      <td>0.1</td>\n",
              "      <td>0.0</td>\n",
              "      <td>0.0</td>\n",
              "      <td>0</td>\n",
              "      <td>10</td>\n",
              "      <td>0</td>\n",
              "      <td>0</td>\n",
              "      <td>0</td>\n",
              "      <td>0.5</td>\n",
              "      <td>0%</td>\n",
              "      <td>0%</td>\n",
              "      <td>0%</td>\n",
              "      <td>0%</td>\n",
              "      <td>260</td>\n",
              "    </tr>\n",
              "    <tr>\n",
              "      <th>2</th>\n",
              "      <td>Coffee</td>\n",
              "      <td>Brewed Coffee</td>\n",
              "      <td>Grande</td>\n",
              "      <td>5</td>\n",
              "      <td>0.1</td>\n",
              "      <td>0.0</td>\n",
              "      <td>0.0</td>\n",
              "      <td>0</td>\n",
              "      <td>10</td>\n",
              "      <td>0</td>\n",
              "      <td>0</td>\n",
              "      <td>0</td>\n",
              "      <td>1.0</td>\n",
              "      <td>0%</td>\n",
              "      <td>0%</td>\n",
              "      <td>0%</td>\n",
              "      <td>0%</td>\n",
              "      <td>330</td>\n",
              "    </tr>\n",
              "    <tr>\n",
              "      <th>3</th>\n",
              "      <td>Coffee</td>\n",
              "      <td>Brewed Coffee</td>\n",
              "      <td>Venti</td>\n",
              "      <td>5</td>\n",
              "      <td>0.1</td>\n",
              "      <td>0.0</td>\n",
              "      <td>0.0</td>\n",
              "      <td>0</td>\n",
              "      <td>10</td>\n",
              "      <td>0</td>\n",
              "      <td>0</td>\n",
              "      <td>0</td>\n",
              "      <td>1.0</td>\n",
              "      <td>0%</td>\n",
              "      <td>0%</td>\n",
              "      <td>2%</td>\n",
              "      <td>0%</td>\n",
              "      <td>410</td>\n",
              "    </tr>\n",
              "    <tr>\n",
              "      <th>4</th>\n",
              "      <td>Classic Espresso Drinks</td>\n",
              "      <td>Caffè Latte</td>\n",
              "      <td>Short Nonfat Milk</td>\n",
              "      <td>70</td>\n",
              "      <td>0.1</td>\n",
              "      <td>0.1</td>\n",
              "      <td>0.0</td>\n",
              "      <td>5</td>\n",
              "      <td>75</td>\n",
              "      <td>10</td>\n",
              "      <td>0</td>\n",
              "      <td>9</td>\n",
              "      <td>6.0</td>\n",
              "      <td>10%</td>\n",
              "      <td>0%</td>\n",
              "      <td>20%</td>\n",
              "      <td>0%</td>\n",
              "      <td>75</td>\n",
              "    </tr>\n",
              "  </tbody>\n",
              "</table>\n",
              "</div>"
            ],
            "text/plain": [
              "         Beverage_category       Beverage  ... Iron (% DV)   Caffeine (mg)\n",
              "0                   Coffee  Brewed Coffee  ...           0%            175\n",
              "1                   Coffee  Brewed Coffee  ...           0%            260\n",
              "2                   Coffee  Brewed Coffee  ...           0%            330\n",
              "3                   Coffee  Brewed Coffee  ...           0%            410\n",
              "4  Classic Espresso Drinks    Caffè Latte  ...           0%             75\n",
              "\n",
              "[5 rows x 18 columns]"
            ]
          },
          "execution_count": 17,
          "metadata": {},
          "output_type": "execute_result"
        }
      ],
      "source": [
        "#Return the first five rows with head()\n",
        "\n",
        "df.head()"
      ]
    },
    {
      "cell_type": "code",
      "execution_count": null,
      "metadata": {
        "colab": {
          "base_uri": "https://localhost:8080/",
          "height": 539
        },
        "id": "MVrxBmCB2Eam",
        "outputId": "b6ecdd13-f179-4e54-9cf1-aec44afc0c00"
      },
      "outputs": [
        {
          "data": {
            "text/html": [
              "<div>\n",
              "<style scoped>\n",
              "    .dataframe tbody tr th:only-of-type {\n",
              "        vertical-align: middle;\n",
              "    }\n",
              "\n",
              "    .dataframe tbody tr th {\n",
              "        vertical-align: top;\n",
              "    }\n",
              "\n",
              "    .dataframe thead th {\n",
              "        text-align: right;\n",
              "    }\n",
              "</style>\n",
              "<table border=\"1\" class=\"dataframe\">\n",
              "  <thead>\n",
              "    <tr style=\"text-align: right;\">\n",
              "      <th></th>\n",
              "      <th>Beverage_category</th>\n",
              "      <th>Beverage</th>\n",
              "      <th>Beverage_prep</th>\n",
              "      <th>Calories</th>\n",
              "      <th>Total Fat (g)</th>\n",
              "      <th>Trans Fat (g)</th>\n",
              "      <th>Saturated Fat (g)</th>\n",
              "      <th>Sodium (mg)</th>\n",
              "      <th>Total Carbohydrates (g)</th>\n",
              "      <th>Cholesterol (mg)</th>\n",
              "      <th>Dietary Fibre (g)</th>\n",
              "      <th>Sugars (g)</th>\n",
              "      <th>Protein (g)</th>\n",
              "      <th>Vitamin A (% DV)</th>\n",
              "      <th>Vitamin C (% DV)</th>\n",
              "      <th>Calcium (% DV)</th>\n",
              "      <th>Iron (% DV)</th>\n",
              "      <th>Caffeine (mg)</th>\n",
              "    </tr>\n",
              "  </thead>\n",
              "  <tbody>\n",
              "    <tr>\n",
              "      <th>237</th>\n",
              "      <td>Frappuccino® Blended Crème</td>\n",
              "      <td>Strawberries &amp; Crème (Without Whipped Cream)</td>\n",
              "      <td>Soymilk</td>\n",
              "      <td>320</td>\n",
              "      <td>3 2</td>\n",
              "      <td>0.4</td>\n",
              "      <td>0.0</td>\n",
              "      <td>0</td>\n",
              "      <td>250</td>\n",
              "      <td>67</td>\n",
              "      <td>1</td>\n",
              "      <td>64</td>\n",
              "      <td>5.0</td>\n",
              "      <td>6%</td>\n",
              "      <td>8%</td>\n",
              "      <td>20%</td>\n",
              "      <td>10%</td>\n",
              "      <td>0</td>\n",
              "    </tr>\n",
              "    <tr>\n",
              "      <th>238</th>\n",
              "      <td>Frappuccino® Blended Crème</td>\n",
              "      <td>Vanilla Bean (Without Whipped Cream)</td>\n",
              "      <td>Tall Nonfat Milk</td>\n",
              "      <td>170</td>\n",
              "      <td>0.1</td>\n",
              "      <td>0.1</td>\n",
              "      <td>0.0</td>\n",
              "      <td>0</td>\n",
              "      <td>160</td>\n",
              "      <td>39</td>\n",
              "      <td>0</td>\n",
              "      <td>38</td>\n",
              "      <td>4.0</td>\n",
              "      <td>6%</td>\n",
              "      <td>0%</td>\n",
              "      <td>10%</td>\n",
              "      <td>0%</td>\n",
              "      <td>0</td>\n",
              "    </tr>\n",
              "    <tr>\n",
              "      <th>239</th>\n",
              "      <td>Frappuccino® Blended Crème</td>\n",
              "      <td>Vanilla Bean (Without Whipped Cream)</td>\n",
              "      <td>Whole Milk</td>\n",
              "      <td>200</td>\n",
              "      <td>3.5</td>\n",
              "      <td>2.0</td>\n",
              "      <td>0.1</td>\n",
              "      <td>10</td>\n",
              "      <td>160</td>\n",
              "      <td>39</td>\n",
              "      <td>0</td>\n",
              "      <td>38</td>\n",
              "      <td>3.0</td>\n",
              "      <td>6%</td>\n",
              "      <td>0%</td>\n",
              "      <td>10%</td>\n",
              "      <td>0%</td>\n",
              "      <td>0</td>\n",
              "    </tr>\n",
              "    <tr>\n",
              "      <th>240</th>\n",
              "      <td>Frappuccino® Blended Crème</td>\n",
              "      <td>Vanilla Bean (Without Whipped Cream)</td>\n",
              "      <td>Soymilk</td>\n",
              "      <td>180</td>\n",
              "      <td>1.5</td>\n",
              "      <td>0.2</td>\n",
              "      <td>0.0</td>\n",
              "      <td>0</td>\n",
              "      <td>160</td>\n",
              "      <td>37</td>\n",
              "      <td>1</td>\n",
              "      <td>35</td>\n",
              "      <td>3.0</td>\n",
              "      <td>4%</td>\n",
              "      <td>0%</td>\n",
              "      <td>10%</td>\n",
              "      <td>6%</td>\n",
              "      <td>0</td>\n",
              "    </tr>\n",
              "    <tr>\n",
              "      <th>241</th>\n",
              "      <td>Frappuccino® Blended Crème</td>\n",
              "      <td>Vanilla Bean (Without Whipped Cream)</td>\n",
              "      <td>Grande Nonfat Milk</td>\n",
              "      <td>240</td>\n",
              "      <td>0.1</td>\n",
              "      <td>0.1</td>\n",
              "      <td>0.0</td>\n",
              "      <td>5</td>\n",
              "      <td>230</td>\n",
              "      <td>56</td>\n",
              "      <td>0</td>\n",
              "      <td>55</td>\n",
              "      <td>5.0</td>\n",
              "      <td>8%</td>\n",
              "      <td>0%</td>\n",
              "      <td>15%</td>\n",
              "      <td>0%</td>\n",
              "      <td>0</td>\n",
              "    </tr>\n",
              "  </tbody>\n",
              "</table>\n",
              "</div>"
            ],
            "text/plain": [
              "              Beverage_category  ... Caffeine (mg)\n",
              "237  Frappuccino® Blended Crème  ...             0\n",
              "238  Frappuccino® Blended Crème  ...             0\n",
              "239  Frappuccino® Blended Crème  ...             0\n",
              "240  Frappuccino® Blended Crème  ...             0\n",
              "241  Frappuccino® Blended Crème  ...             0\n",
              "\n",
              "[5 rows x 18 columns]"
            ]
          },
          "execution_count": 18,
          "metadata": {},
          "output_type": "execute_result"
        }
      ],
      "source": [
        "#Return the last five rows with tail()\n",
        "df.tail()\n",
        "\n"
      ]
    },
    {
      "cell_type": "markdown",
      "metadata": {
        "id": "ON0VatMS2gl5"
      },
      "source": [
        "# Shape of the Data\n",
        "\n",
        "> Analyzing the shape of the data will give you information on the relative size of your dataset. It surely is nothing groundbreaking, but it comes in handy when dealing with many different subsets of your data later on in your workflow and want to quickly check your data is in the correct form.\n",
        "\n",
        "\n",
        "> The following pandas method will return the shape of your data in a tuple format:\n",
        "\n",
        "\n",
        "```\n",
        "# Return the shape of your dataset\n",
        "df.shape\n",
        "```\n",
        "\n",
        "> The tuple which is returned can be interpreted as the first argument being the number of rows in your dataset, and the second argument being the number of columns:\n",
        "\n",
        "> (# of rows, # of columns)\n"
      ]
    },
    {
      "cell_type": "code",
      "execution_count": null,
      "metadata": {
        "colab": {
          "base_uri": "https://localhost:8080/"
        },
        "id": "-u2kVNjr5Q1q",
        "outputId": "e9e1ac60-888a-4e9a-9aac-9871a32457ab"
      },
      "outputs": [
        {
          "data": {
            "text/plain": [
              "(242, 18)"
            ]
          },
          "execution_count": 19,
          "metadata": {},
          "output_type": "execute_result"
        }
      ],
      "source": [
        "#Return the shape of the data with .shape\n",
        "\n",
        "df.shape"
      ]
    },
    {
      "cell_type": "code",
      "execution_count": null,
      "metadata": {
        "id": "6UVx-iJx_pwV"
      },
      "outputs": [],
      "source": []
    },
    {
      "cell_type": "markdown",
      "metadata": {
        "id": "aKuW2Dpn81AD"
      },
      "source": [
        "# Column Properties\n",
        "\n",
        ">The columns of the data are extremely important, as their behavior and relationships with one another determine how we visualize and model our data later on in the project. Inspecting the properties of the columns can give us some valuable insights on how the data behaves."
      ]
    },
    {
      "cell_type": "markdown",
      "metadata": {
        "id": "dFU49BQb5XIn"
      },
      "source": [
        "# Column Names\n",
        "\n",
        "\n",
        "> To return the columns within our dataset use the following pandas method:\n",
        "\n",
        "\n",
        "```\n",
        "# Return the columsn of the data\n",
        "df.columns\n",
        "\n",
        "```\n",
        "\n",
        ">The output gives us what we want, but lets get it in easy-to-read format:\n",
        "\n",
        "\n",
        "\n",
        "```\n",
        "# Wrap the previous code with a list() function:\n",
        "list(df.columns)\n",
        "\n",
        "```\n",
        "\n",
        "> Ah yes! now this is easy to interpret, and now we can look at the individual column names in our dataset.\n"
      ]
    },
    {
      "cell_type": "code",
      "execution_count": null,
      "metadata": {
        "colab": {
          "base_uri": "https://localhost:8080/"
        },
        "id": "0YlzZiLc87_c",
        "outputId": "b8bd8ff0-4920-4230-ebff-6fe9d8260ecc"
      },
      "outputs": [
        {
          "data": {
            "text/plain": [
              "Index(['Beverage_category', 'Beverage', 'Beverage_prep', 'Calories',\n",
              "       ' Total Fat (g)', 'Trans Fat (g) ', 'Saturated Fat (g)', ' Sodium (mg)',\n",
              "       ' Total Carbohydrates (g) ', 'Cholesterol (mg)', ' Dietary Fibre (g)',\n",
              "       ' Sugars (g)', ' Protein (g) ', 'Vitamin A (% DV) ', 'Vitamin C (% DV)',\n",
              "       ' Calcium (% DV) ', 'Iron (% DV) ', 'Caffeine (mg)'],\n",
              "      dtype='object')"
            ]
          },
          "execution_count": 20,
          "metadata": {},
          "output_type": "execute_result"
        }
      ],
      "source": [
        "#return the columns of the data\n",
        "\n",
        "df.columns"
      ]
    },
    {
      "cell_type": "code",
      "execution_count": null,
      "metadata": {
        "colab": {
          "base_uri": "https://localhost:8080/"
        },
        "id": "kUABxQWZ897v",
        "outputId": "b7cd5b0f-c311-4150-be8b-757cafdd511a"
      },
      "outputs": [
        {
          "data": {
            "text/plain": [
              "['Beverage_category',\n",
              " 'Beverage',\n",
              " 'Beverage_prep',\n",
              " 'Calories',\n",
              " ' Total Fat (g)',\n",
              " 'Trans Fat (g) ',\n",
              " 'Saturated Fat (g)',\n",
              " ' Sodium (mg)',\n",
              " ' Total Carbohydrates (g) ',\n",
              " 'Cholesterol (mg)',\n",
              " ' Dietary Fibre (g)',\n",
              " ' Sugars (g)',\n",
              " ' Protein (g) ',\n",
              " 'Vitamin A (% DV) ',\n",
              " 'Vitamin C (% DV)',\n",
              " ' Calcium (% DV) ',\n",
              " 'Iron (% DV) ',\n",
              " 'Caffeine (mg)']"
            ]
          },
          "execution_count": 21,
          "metadata": {},
          "output_type": "execute_result"
        }
      ],
      "source": [
        "#return the columns of the data in a list format\n",
        "list(df.columns)\n",
        "\n"
      ]
    },
    {
      "cell_type": "markdown",
      "metadata": {
        "id": "s-SSeVaD9XiA"
      },
      "source": [
        "# Column Data Types\n",
        "\n",
        "> The data types of the columns are noteworthy pieces of information, since they play a factor in our data manipulation and cleaning tasks.\n",
        "\n",
        ">To get a look at the columns of the data and their associated data types, use the following pandas method:\n",
        "\n",
        "\n",
        "\n",
        "```\n",
        "# Return the data types of the column\n",
        "\n",
        "df.info()\n",
        "```\n",
        "\n",
        "> It is very common to see float64 and int64 data types, float64 (\"floating point\") refers to quantities which are in decimal format, and int64 (\"integers\") refer to whole numbers. 64 just represents the memory it takes up.\n",
        "The \"object\" datatype refers to the text data we have in our dataset.\n"
      ]
    },
    {
      "cell_type": "code",
      "execution_count": null,
      "metadata": {
        "colab": {
          "base_uri": "https://localhost:8080/"
        },
        "id": "xzh14k5Q_qp5",
        "outputId": "5f7b952c-9219-4dd9-cfbb-057959616dca"
      },
      "outputs": [
        {
          "name": "stdout",
          "output_type": "stream",
          "text": [
            "<class 'pandas.core.frame.DataFrame'>\n",
            "RangeIndex: 242 entries, 0 to 241\n",
            "Data columns (total 18 columns):\n",
            " #   Column                     Non-Null Count  Dtype  \n",
            "---  ------                     --------------  -----  \n",
            " 0   Beverage_category          242 non-null    object \n",
            " 1   Beverage                   242 non-null    object \n",
            " 2   Beverage_prep              242 non-null    object \n",
            " 3   Calories                   242 non-null    int64  \n",
            " 4    Total Fat (g)             242 non-null    object \n",
            " 5   Trans Fat (g)              242 non-null    float64\n",
            " 6   Saturated Fat (g)          242 non-null    float64\n",
            " 7    Sodium (mg)               242 non-null    int64  \n",
            " 8    Total Carbohydrates (g)   242 non-null    int64  \n",
            " 9   Cholesterol (mg)           242 non-null    int64  \n",
            " 10   Dietary Fibre (g)         242 non-null    int64  \n",
            " 11   Sugars (g)                242 non-null    int64  \n",
            " 12   Protein (g)               242 non-null    float64\n",
            " 13  Vitamin A (% DV)           242 non-null    object \n",
            " 14  Vitamin C (% DV)           242 non-null    object \n",
            " 15   Calcium (% DV)            242 non-null    object \n",
            " 16  Iron (% DV)                242 non-null    object \n",
            " 17  Caffeine (mg)              241 non-null    object \n",
            "dtypes: float64(3), int64(6), object(9)\n",
            "memory usage: 34.2+ KB\n"
          ]
        }
      ],
      "source": [
        "#Return the datatypes of the columns with info()\n",
        "\n",
        "df.info()"
      ]
    },
    {
      "cell_type": "markdown",
      "metadata": {
        "id": "cIuc8zy3AmCB"
      },
      "source": [
        "# Column Value Counts\n",
        "\n",
        "> To further our inspection of the columns in our data, we can take a look at the frequency of the values in a given column.\n",
        "\n",
        "> To check the relative counts of different values in a column, use the following pandas method:\n",
        "\n",
        "\n",
        "\n",
        "```\n",
        "# return the values and their counts in a column:\n",
        "\n",
        "df['column_name'].value_counts()\n",
        "\n",
        "or\n",
        "\n",
        "df.column_name.value_counts()\n",
        "\n",
        "```\n",
        "\n"
      ]
    },
    {
      "cell_type": "code",
      "execution_count": null,
      "metadata": {
        "colab": {
          "base_uri": "https://localhost:8080/"
        },
        "id": "wq4GmO8Vp5xW",
        "outputId": "20e378c4-ab1f-4bda-9553-7341d62700c1"
      },
      "outputs": [
        {
          "data": {
            "text/plain": [
              "['Beverage_category',\n",
              " 'Beverage',\n",
              " 'Beverage_prep',\n",
              " 'Calories',\n",
              " ' Total Fat (g)',\n",
              " 'Trans Fat (g) ',\n",
              " 'Saturated Fat (g)',\n",
              " ' Sodium (mg)',\n",
              " ' Total Carbohydrates (g) ',\n",
              " 'Cholesterol (mg)',\n",
              " ' Dietary Fibre (g)',\n",
              " ' Sugars (g)',\n",
              " ' Protein (g) ',\n",
              " 'Vitamin A (% DV) ',\n",
              " 'Vitamin C (% DV)',\n",
              " ' Calcium (% DV) ',\n",
              " 'Iron (% DV) ',\n",
              " 'Caffeine (mg)']"
            ]
          },
          "execution_count": 23,
          "metadata": {},
          "output_type": "execute_result"
        }
      ],
      "source": [
        "list(df.columns)"
      ]
    },
    {
      "cell_type": "code",
      "execution_count": null,
      "metadata": {
        "colab": {
          "base_uri": "https://localhost:8080/"
        },
        "id": "LxYWw1LYCdNa",
        "outputId": "74f478fd-0052-4826-bdfe-2591c2e107d7"
      },
      "outputs": [
        {
          "data": {
            "text/plain": [
              "Classic Espresso Drinks              58\n",
              "Tazo® Tea Drinks                     52\n",
              "Signature Espresso Drinks            40\n",
              "Frappuccino® Blended Coffee          36\n",
              "Shaken Iced Beverages                18\n",
              "Frappuccino® Blended Crème           13\n",
              "Frappuccino® Light Blended Coffee    12\n",
              "Smoothies                             9\n",
              "Coffee                                4\n",
              "Name: Beverage_category, dtype: int64"
            ]
          },
          "execution_count": 24,
          "metadata": {},
          "output_type": "execute_result"
        }
      ],
      "source": [
        "#What are the different Beverage categories and their counts?\n",
        "df['Beverage_category'].value_counts()"
      ]
    },
    {
      "cell_type": "code",
      "execution_count": null,
      "metadata": {
        "colab": {
          "base_uri": "https://localhost:8080/"
        },
        "id": "66ujXyzyBaRA",
        "outputId": "d534bb8e-1d4f-4e20-d7e5-6475dbb6e26c"
      },
      "outputs": [
        {
          "data": {
            "text/plain": [
              "Soymilk               66\n",
              "2% Milk               50\n",
              "Grande Nonfat Milk    26\n",
              "Tall Nonfat Milk      23\n",
              "Venti Nonfat Milk     22\n",
              "Whole Milk            16\n",
              "Short Nonfat Milk     12\n",
              "Venti                  7\n",
              "Grande                 7\n",
              "Tall                   7\n",
              "Short                  4\n",
              "Solo                   1\n",
              "Doppio                 1\n",
              "Name: Beverage_prep, dtype: int64"
            ]
          },
          "execution_count": 30,
          "metadata": {},
          "output_type": "execute_result"
        }
      ],
      "source": [
        "df['Beverage_prep'].value_counts()"
      ]
    },
    {
      "cell_type": "code",
      "execution_count": null,
      "metadata": {
        "id": "2RFf8d30qZuG"
      },
      "outputs": [],
      "source": []
    },
    {
      "cell_type": "markdown",
      "metadata": {
        "id": "H7rPSQAdIP6I"
      },
      "source": [
        "# Summary Statistics\n",
        "\n",
        "\n",
        ">Now that we have explored the properties of our data, its now time to get into the numbers, and take a look at various summary statistics that our data contains:\n",
        "\n",
        "\n",
        "*   Mean\n",
        "*   Median\n",
        "*   Maximum value\n",
        "*   Minimum Value\n",
        "\n",
        "\n",
        "\n",
        "\n",
        "\n",
        ">In pandas, we have the choice to return column specific summary statistics, as well as statistics for the whole dataframe itself.\n",
        "\n",
        "\n",
        "\n",
        "\n",
        "\n",
        "\n"
      ]
    },
    {
      "cell_type": "markdown",
      "metadata": {
        "id": "rhx8sbbHK56e"
      },
      "source": [
        "\n",
        "\n",
        "# Mean\n",
        "\n",
        ">To return the mean of the data use the following pandas function:\n",
        "\n",
        "\n",
        "\n",
        "```\n",
        "# Column specific mean\n",
        "df['column_name'].mean()\n",
        "\n",
        "or\n",
        "\n",
        "df.column_name.mean()\n",
        "\n",
        "#Mean for all columns in the dataframe\n",
        "df.mean()\n",
        "```"
      ]
    },
    {
      "cell_type": "code",
      "execution_count": null,
      "metadata": {
        "colab": {
          "base_uri": "https://localhost:8080/"
        },
        "id": "lr2PHYEN0Ro6",
        "outputId": "73c91478-02bb-4cf5-a9fd-be94bbbe835d"
      },
      "outputs": [
        {
          "data": {
            "text/plain": [
              "['Beverage_category',\n",
              " 'Beverage',\n",
              " 'Beverage_prep',\n",
              " 'Calories',\n",
              " ' Total Fat (g)',\n",
              " 'Trans Fat (g) ',\n",
              " 'Saturated Fat (g)',\n",
              " ' Sodium (mg)',\n",
              " ' Total Carbohydrates (g) ',\n",
              " 'Cholesterol (mg)',\n",
              " ' Dietary Fibre (g)',\n",
              " ' Sugars (g)',\n",
              " ' Protein (g) ',\n",
              " 'Vitamin A (% DV) ',\n",
              " 'Vitamin C (% DV)',\n",
              " ' Calcium (% DV) ',\n",
              " 'Iron (% DV) ',\n",
              " 'Caffeine (mg)']"
            ]
          },
          "execution_count": 31,
          "metadata": {},
          "output_type": "execute_result"
        }
      ],
      "source": [
        "list(df.columns)"
      ]
    },
    {
      "cell_type": "code",
      "execution_count": null,
      "metadata": {
        "colab": {
          "base_uri": "https://localhost:8080/"
        },
        "id": "Vt1r3B7lLB2J",
        "outputId": "9fb8588b-b7fd-44b9-c1cf-d755e31837f7"
      },
      "outputs": [
        {
          "data": {
            "text/plain": [
              "32.96280991735537"
            ]
          },
          "execution_count": 32,
          "metadata": {},
          "output_type": "execute_result"
        }
      ],
      "source": [
        "#What is the average sugar content in starbucks drinks?\n",
        "\n",
        "df[' Sugars (g)'].mean()"
      ]
    },
    {
      "cell_type": "code",
      "execution_count": null,
      "metadata": {
        "colab": {
          "base_uri": "https://localhost:8080/"
        },
        "id": "a9LLAlpkMHgq",
        "outputId": "00c35cb3-a588-48d0-a682-1110aef72a94"
      },
      "outputs": [
        {
          "data": {
            "text/plain": [
              "Calories                     193.871901\n",
              "Trans Fat (g)                  1.307025\n",
              "Saturated Fat (g)              0.037603\n",
              " Sodium (mg)                   6.363636\n",
              " Total Carbohydrates (g)     128.884298\n",
              "Cholesterol (mg)              35.991736\n",
              " Dietary Fibre (g)             0.805785\n",
              " Sugars (g)                   32.962810\n",
              " Protein (g)                   6.978512\n",
              "dtype: float64"
            ]
          },
          "execution_count": 33,
          "metadata": {},
          "output_type": "execute_result"
        }
      ],
      "source": [
        "#What is the average of all the nutritional information of our data?\n",
        "\n",
        "\n",
        "df.mean()"
      ]
    },
    {
      "cell_type": "code",
      "execution_count": null,
      "metadata": {
        "id": "ffNOXLQ2NZyH"
      },
      "outputs": [],
      "source": [
        "#Why are not all of our columns showing the mean?"
      ]
    },
    {
      "cell_type": "code",
      "execution_count": null,
      "metadata": {
        "id": "EJ0q1v1RCUwG"
      },
      "outputs": [],
      "source": []
    },
    {
      "cell_type": "code",
      "execution_count": null,
      "metadata": {
        "id": "pXX7m0xlMxAV"
      },
      "outputs": [],
      "source": [
        "#What is the average caffeine content in starbucks drinks?\n",
        "\n",
        "#coffee_data['Caffeine (mg)'].mean()"
      ]
    },
    {
      "cell_type": "code",
      "execution_count": null,
      "metadata": {
        "id": "I982LHpUCiAH"
      },
      "outputs": [],
      "source": []
    },
    {
      "cell_type": "code",
      "execution_count": null,
      "metadata": {
        "id": "kyPlhRajMsnu"
      },
      "outputs": [],
      "source": []
    },
    {
      "cell_type": "markdown",
      "metadata": {
        "id": "NxAtq212K-zs"
      },
      "source": [
        "\n",
        "#Median\n",
        "\n",
        ">to return the median of the data use the following pandas functions:\n",
        "\n",
        "\n",
        "\n",
        "```\n",
        "# Column specific median\n",
        "df['column_name'].median()\n",
        "\n",
        "or\n",
        "\n",
        "df.column_name.median()\n",
        "\n",
        "\n",
        "#Median for all columns in the dataframe\n",
        "df.median()\n",
        "```"
      ]
    },
    {
      "cell_type": "code",
      "execution_count": null,
      "metadata": {
        "colab": {
          "base_uri": "https://localhost:8080/"
        },
        "id": "p6Ol1LQSDJSZ",
        "outputId": "cadb6420-464b-4ae8-97c7-c702f5e11075"
      },
      "outputs": [
        {
          "data": {
            "text/plain": [
              "32.0"
            ]
          },
          "execution_count": 34,
          "metadata": {},
          "output_type": "execute_result"
        }
      ],
      "source": [
        "#Return the median number of sugars\n",
        "df[' Sugars (g)'].median()"
      ]
    },
    {
      "cell_type": "code",
      "execution_count": null,
      "metadata": {
        "colab": {
          "base_uri": "https://localhost:8080/"
        },
        "id": "cj186Op9DPig",
        "outputId": "50a205e9-b73f-45fd-f3b3-aace3f624cce"
      },
      "outputs": [
        {
          "data": {
            "text/plain": [
              "Calories                     185.0\n",
              "Trans Fat (g)                  0.5\n",
              "Saturated Fat (g)              0.0\n",
              " Sodium (mg)                   5.0\n",
              " Total Carbohydrates (g)     125.0\n",
              "Cholesterol (mg)              34.0\n",
              " Dietary Fibre (g)             0.0\n",
              " Sugars (g)                   32.0\n",
              " Protein (g)                   6.0\n",
              "dtype: float64"
            ]
          },
          "execution_count": 35,
          "metadata": {},
          "output_type": "execute_result"
        }
      ],
      "source": [
        "#return the median for all nutritional information\n",
        "\n",
        "df.median()"
      ]
    },
    {
      "cell_type": "markdown",
      "metadata": {
        "id": "o9dZNgx3NlvJ"
      },
      "source": [
        "# Maximum Value\n",
        "\n",
        ">To return the maximum value of the data use the following pandas functions:\n",
        "\n",
        "\n",
        "\n",
        "```\n",
        "# Column specific maximum value\n",
        "df['column_name'].max()\n",
        "\n",
        "or\n",
        "\n",
        "df.column_name.max()\n",
        "\n",
        "\n",
        "#Maximum value for all columns in dataframe\n",
        "df.max()\n",
        "```\n",
        "\n",
        "\n",
        ">Note: the max() function will also return the word with highest alphabetical character from a column with text.\n",
        "\n",
        "\n",
        "\n",
        "\n",
        "\n",
        "# Minimum Value\n",
        "\n",
        "\n",
        ">To return the minimum value of the data use the following pandas functions:\n",
        "\n",
        "```\n",
        "# Column specific minumum value\n",
        "df['column_name'].min()\n",
        "\n",
        "or\n",
        "\n",
        "df.column_name.min()\n",
        "\n",
        "\n",
        "#Minimum value for all columns in dataframe\n",
        "df.min()\n",
        "```\n"
      ]
    },
    {
      "cell_type": "code",
      "execution_count": null,
      "metadata": {
        "id": "CTNOOdv81gB-"
      },
      "outputs": [],
      "source": []
    },
    {
      "cell_type": "code",
      "execution_count": null,
      "metadata": {
        "colab": {
          "base_uri": "https://localhost:8080/"
        },
        "id": "v2_eTlHuNkMf",
        "outputId": "ffb65bb4-5710-4367-db88-75013c9e4364"
      },
      "outputs": [
        {
          "data": {
            "text/plain": [
              "20.0"
            ]
          },
          "execution_count": 36,
          "metadata": {},
          "output_type": "execute_result"
        }
      ],
      "source": [
        "#Whats the maximum amount of Protein in a starbucks drink?\n",
        "\n",
        "df[' Protein (g) '].max()"
      ]
    },
    {
      "cell_type": "code",
      "execution_count": null,
      "metadata": {
        "colab": {
          "base_uri": "https://localhost:8080/"
        },
        "id": "CYtIRYDvPxmU",
        "outputId": "4879e890-66cc-4eef-fd4a-feb3bb707abc"
      },
      "outputs": [
        {
          "data": {
            "text/plain": [
              "0.0"
            ]
          },
          "execution_count": 37,
          "metadata": {},
          "output_type": "execute_result"
        }
      ],
      "source": [
        "#Whats the minimum?\n",
        "\n",
        "df[' Protein (g) '].min()"
      ]
    },
    {
      "cell_type": "code",
      "execution_count": null,
      "metadata": {
        "colab": {
          "base_uri": "https://localhost:8080/"
        },
        "id": "D0CUACYYPQ2j",
        "outputId": "e3a2ad26-047b-4764-cf93-f3fc24c2787c"
      },
      "outputs": [
        {
          "data": {
            "text/plain": [
              "Beverage_category                                         Tazo® Tea Drinks\n",
              "Beverage                     White Chocolate Mocha (Without Whipped Cream)\n",
              "Beverage_prep                                                   Whole Milk\n",
              "Calories                                                               510\n",
              " Total Fat (g)                                                           9\n",
              "Trans Fat (g)                                                            9\n",
              "Saturated Fat (g)                                                      0.3\n",
              " Sodium (mg)                                                            40\n",
              " Total Carbohydrates (g)                                               340\n",
              "Cholesterol (mg)                                                        90\n",
              " Dietary Fibre (g)                                                       8\n",
              " Sugars (g)                                                             84\n",
              " Protein (g)                                                            20\n",
              "Vitamin A (% DV)                                                        8%\n",
              "Vitamin C (% DV)                                                       80%\n",
              " Calcium (% DV)                                                         8%\n",
              "Iron (% DV)                                                          8.00%\n",
              "dtype: object"
            ]
          },
          "execution_count": 38,
          "metadata": {},
          "output_type": "execute_result"
        }
      ],
      "source": [
        "#Whats the maximum value for all columns in the data?\n",
        "df.max()"
      ]
    },
    {
      "cell_type": "code",
      "execution_count": null,
      "metadata": {
        "colab": {
          "base_uri": "https://localhost:8080/"
        },
        "id": "sKe6Av5bP1fn",
        "outputId": "79e5c2c0-ae46-4c67-abb8-cf2b99f00fa1"
      },
      "outputs": [
        {
          "data": {
            "text/plain": [
              "<bound method DataFrame.min of               Beverage_category  ... Caffeine (mg)\n",
              "0                        Coffee  ...           175\n",
              "1                        Coffee  ...           260\n",
              "2                        Coffee  ...           330\n",
              "3                        Coffee  ...           410\n",
              "4       Classic Espresso Drinks  ...            75\n",
              "..                          ...  ...           ...\n",
              "237  Frappuccino® Blended Crème  ...             0\n",
              "238  Frappuccino® Blended Crème  ...             0\n",
              "239  Frappuccino® Blended Crème  ...             0\n",
              "240  Frappuccino® Blended Crème  ...             0\n",
              "241  Frappuccino® Blended Crème  ...             0\n",
              "\n",
              "[242 rows x 18 columns]>"
            ]
          },
          "execution_count": 42,
          "metadata": {},
          "output_type": "execute_result"
        }
      ],
      "source": [
        "#Minimum?\n",
        "\n",
        "df.min"
      ]
    },
    {
      "cell_type": "markdown",
      "metadata": {
        "id": "efd-xAAfP4FA"
      },
      "source": [
        "# Dataframe Summary Statistics\n",
        "\n",
        ">Viewing individual summary statistics for a column is great, but it would be nice if we could get a data frame which returns summary statistics for all columns.\n",
        "\n",
        ">To return a dataframe which consists of all basic summary statistics for each column, use this pandas function:\n",
        "\n",
        "\n",
        "\n",
        "```\n",
        "# Return a dataframe of summary statistics for all numerical values\n",
        "df.describe()\n",
        "```\n",
        "\n",
        ">As always you can also do this with single columns as well\n",
        "\n",
        "\n",
        "```\n",
        "# Return statistics for a specific column\n",
        "df['column_name'].describe()\n",
        "\n",
        "or\n",
        "\n",
        "df.column_name.describe()\n",
        "```\n",
        "\n"
      ]
    },
    {
      "cell_type": "code",
      "execution_count": null,
      "metadata": {
        "colab": {
          "base_uri": "https://localhost:8080/",
          "height": 355
        },
        "id": "ee9YNP40a-Nf",
        "outputId": "e7ecb4dc-77ed-424f-f622-f2e6895b7ae5"
      },
      "outputs": [
        {
          "data": {
            "text/html": [
              "<div>\n",
              "<style scoped>\n",
              "    .dataframe tbody tr th:only-of-type {\n",
              "        vertical-align: middle;\n",
              "    }\n",
              "\n",
              "    .dataframe tbody tr th {\n",
              "        vertical-align: top;\n",
              "    }\n",
              "\n",
              "    .dataframe thead th {\n",
              "        text-align: right;\n",
              "    }\n",
              "</style>\n",
              "<table border=\"1\" class=\"dataframe\">\n",
              "  <thead>\n",
              "    <tr style=\"text-align: right;\">\n",
              "      <th></th>\n",
              "      <th>Calories</th>\n",
              "      <th>Trans Fat (g)</th>\n",
              "      <th>Saturated Fat (g)</th>\n",
              "      <th>Sodium (mg)</th>\n",
              "      <th>Total Carbohydrates (g)</th>\n",
              "      <th>Cholesterol (mg)</th>\n",
              "      <th>Dietary Fibre (g)</th>\n",
              "      <th>Sugars (g)</th>\n",
              "      <th>Protein (g)</th>\n",
              "    </tr>\n",
              "  </thead>\n",
              "  <tbody>\n",
              "    <tr>\n",
              "      <th>count</th>\n",
              "      <td>242.000000</td>\n",
              "      <td>242.000000</td>\n",
              "      <td>242.000000</td>\n",
              "      <td>242.000000</td>\n",
              "      <td>242.000000</td>\n",
              "      <td>242.000000</td>\n",
              "      <td>242.000000</td>\n",
              "      <td>242.000000</td>\n",
              "      <td>242.000000</td>\n",
              "    </tr>\n",
              "    <tr>\n",
              "      <th>mean</th>\n",
              "      <td>193.871901</td>\n",
              "      <td>1.307025</td>\n",
              "      <td>0.037603</td>\n",
              "      <td>6.363636</td>\n",
              "      <td>128.884298</td>\n",
              "      <td>35.991736</td>\n",
              "      <td>0.805785</td>\n",
              "      <td>32.962810</td>\n",
              "      <td>6.978512</td>\n",
              "    </tr>\n",
              "    <tr>\n",
              "      <th>std</th>\n",
              "      <td>102.863303</td>\n",
              "      <td>1.640259</td>\n",
              "      <td>0.071377</td>\n",
              "      <td>8.630257</td>\n",
              "      <td>82.303223</td>\n",
              "      <td>20.795186</td>\n",
              "      <td>1.445944</td>\n",
              "      <td>19.730199</td>\n",
              "      <td>4.871659</td>\n",
              "    </tr>\n",
              "    <tr>\n",
              "      <th>min</th>\n",
              "      <td>0.000000</td>\n",
              "      <td>0.000000</td>\n",
              "      <td>0.000000</td>\n",
              "      <td>0.000000</td>\n",
              "      <td>0.000000</td>\n",
              "      <td>0.000000</td>\n",
              "      <td>0.000000</td>\n",
              "      <td>0.000000</td>\n",
              "      <td>0.000000</td>\n",
              "    </tr>\n",
              "    <tr>\n",
              "      <th>25%</th>\n",
              "      <td>120.000000</td>\n",
              "      <td>0.100000</td>\n",
              "      <td>0.000000</td>\n",
              "      <td>0.000000</td>\n",
              "      <td>70.000000</td>\n",
              "      <td>21.000000</td>\n",
              "      <td>0.000000</td>\n",
              "      <td>18.000000</td>\n",
              "      <td>3.000000</td>\n",
              "    </tr>\n",
              "    <tr>\n",
              "      <th>50%</th>\n",
              "      <td>185.000000</td>\n",
              "      <td>0.500000</td>\n",
              "      <td>0.000000</td>\n",
              "      <td>5.000000</td>\n",
              "      <td>125.000000</td>\n",
              "      <td>34.000000</td>\n",
              "      <td>0.000000</td>\n",
              "      <td>32.000000</td>\n",
              "      <td>6.000000</td>\n",
              "    </tr>\n",
              "    <tr>\n",
              "      <th>75%</th>\n",
              "      <td>260.000000</td>\n",
              "      <td>2.000000</td>\n",
              "      <td>0.100000</td>\n",
              "      <td>10.000000</td>\n",
              "      <td>170.000000</td>\n",
              "      <td>50.750000</td>\n",
              "      <td>1.000000</td>\n",
              "      <td>43.750000</td>\n",
              "      <td>10.000000</td>\n",
              "    </tr>\n",
              "    <tr>\n",
              "      <th>max</th>\n",
              "      <td>510.000000</td>\n",
              "      <td>9.000000</td>\n",
              "      <td>0.300000</td>\n",
              "      <td>40.000000</td>\n",
              "      <td>340.000000</td>\n",
              "      <td>90.000000</td>\n",
              "      <td>8.000000</td>\n",
              "      <td>84.000000</td>\n",
              "      <td>20.000000</td>\n",
              "    </tr>\n",
              "  </tbody>\n",
              "</table>\n",
              "</div>"
            ],
            "text/plain": [
              "         Calories  Trans Fat (g)   ...   Sugars (g)   Protein (g) \n",
              "count  242.000000      242.000000  ...   242.000000     242.000000\n",
              "mean   193.871901        1.307025  ...    32.962810       6.978512\n",
              "std    102.863303        1.640259  ...    19.730199       4.871659\n",
              "min      0.000000        0.000000  ...     0.000000       0.000000\n",
              "25%    120.000000        0.100000  ...    18.000000       3.000000\n",
              "50%    185.000000        0.500000  ...    32.000000       6.000000\n",
              "75%    260.000000        2.000000  ...    43.750000      10.000000\n",
              "max    510.000000        9.000000  ...    84.000000      20.000000\n",
              "\n",
              "[8 rows x 9 columns]"
            ]
          },
          "execution_count": 43,
          "metadata": {},
          "output_type": "execute_result"
        }
      ],
      "source": [
        "#Return a dataframe of summary statistics using .describe()\n",
        "\n",
        "df.describe()"
      ]
    },
    {
      "cell_type": "code",
      "execution_count": null,
      "metadata": {
        "colab": {
          "base_uri": "https://localhost:8080/"
        },
        "id": "8sd2p1CKuGbx",
        "outputId": "e29a0363-f0c2-42ae-92a7-859b58a6951b"
      },
      "outputs": [
        {
          "data": {
            "text/plain": [
              "0      175\n",
              "1      260\n",
              "2      330\n",
              "3      410\n",
              "4       75\n",
              "      ... \n",
              "237      0\n",
              "238      0\n",
              "239      0\n",
              "240      0\n",
              "241      0\n",
              "Name: Caffeine (mg), Length: 242, dtype: object"
            ]
          },
          "execution_count": 44,
          "metadata": {},
          "output_type": "execute_result"
        }
      ],
      "source": [
        "df['Caffeine (mg)']"
      ]
    },
    {
      "cell_type": "markdown",
      "metadata": {
        "id": "LXjxbqkmbwQu"
      },
      "source": [
        "# Correlation Matrix\n",
        "\n",
        "> Indentifying relationships between variables in the data is at the heart of various data science tasks. Identifying correlation between variables can help us get an idea of which of them will useful for future modeling and prediction.\n",
        "\n",
        ">Use the following pandas function to return a dataframe of correlations between variables, also known as a \"correlation matrix\":\n",
        "\n",
        "\n",
        "\n",
        "```\n",
        "# Return correlation matrix\n",
        "df.corr()\n",
        "```\n",
        "\n",
        "> This gives us a nice visual of the various correlation coefficients between our columns in the dataset.\n",
        "\n",
        ">Note: a quick reminder, correlation is quantified on a scale between -1 to 1, where -1 indicates a strong negative relationship, 0 indicates no relationship, and 1 indicates a strong positive relationship between two variables.\n"
      ]
    },
    {
      "cell_type": "code",
      "execution_count": null,
      "metadata": {
        "colab": {
          "base_uri": "https://localhost:8080/",
          "height": 453
        },
        "id": "rRwvdbJrbvx9",
        "outputId": "f617dd5e-1057-4abf-ba05-7c4caa8f9603"
      },
      "outputs": [
        {
          "data": {
            "text/html": [
              "<div>\n",
              "<style scoped>\n",
              "    .dataframe tbody tr th:only-of-type {\n",
              "        vertical-align: middle;\n",
              "    }\n",
              "\n",
              "    .dataframe tbody tr th {\n",
              "        vertical-align: top;\n",
              "    }\n",
              "\n",
              "    .dataframe thead th {\n",
              "        text-align: right;\n",
              "    }\n",
              "</style>\n",
              "<table border=\"1\" class=\"dataframe\">\n",
              "  <thead>\n",
              "    <tr style=\"text-align: right;\">\n",
              "      <th></th>\n",
              "      <th>Calories</th>\n",
              "      <th>Trans Fat (g)</th>\n",
              "      <th>Saturated Fat (g)</th>\n",
              "      <th>Sodium (mg)</th>\n",
              "      <th>Total Carbohydrates (g)</th>\n",
              "      <th>Cholesterol (mg)</th>\n",
              "      <th>Dietary Fibre (g)</th>\n",
              "      <th>Sugars (g)</th>\n",
              "      <th>Protein (g)</th>\n",
              "    </tr>\n",
              "  </thead>\n",
              "  <tbody>\n",
              "    <tr>\n",
              "      <th>Calories</th>\n",
              "      <td>1.000000</td>\n",
              "      <td>0.642818</td>\n",
              "      <td>0.331047</td>\n",
              "      <td>0.387892</td>\n",
              "      <td>0.795037</td>\n",
              "      <td>0.940034</td>\n",
              "      <td>0.384292</td>\n",
              "      <td>0.909675</td>\n",
              "      <td>0.578453</td>\n",
              "    </tr>\n",
              "    <tr>\n",
              "      <th>Trans Fat (g)</th>\n",
              "      <td>0.642818</td>\n",
              "      <td>1.000000</td>\n",
              "      <td>0.694871</td>\n",
              "      <td>0.707794</td>\n",
              "      <td>0.524176</td>\n",
              "      <td>0.439811</td>\n",
              "      <td>0.131267</td>\n",
              "      <td>0.419887</td>\n",
              "      <td>0.496317</td>\n",
              "    </tr>\n",
              "    <tr>\n",
              "      <th>Saturated Fat (g)</th>\n",
              "      <td>0.331047</td>\n",
              "      <td>0.694871</td>\n",
              "      <td>1.000000</td>\n",
              "      <td>0.920077</td>\n",
              "      <td>0.238142</td>\n",
              "      <td>0.161791</td>\n",
              "      <td>-0.093783</td>\n",
              "      <td>0.179255</td>\n",
              "      <td>0.287532</td>\n",
              "    </tr>\n",
              "    <tr>\n",
              "      <th>Sodium (mg)</th>\n",
              "      <td>0.387892</td>\n",
              "      <td>0.707794</td>\n",
              "      <td>0.920077</td>\n",
              "      <td>1.000000</td>\n",
              "      <td>0.290295</td>\n",
              "      <td>0.199477</td>\n",
              "      <td>-0.060154</td>\n",
              "      <td>0.205969</td>\n",
              "      <td>0.496233</td>\n",
              "    </tr>\n",
              "    <tr>\n",
              "      <th>Total Carbohydrates (g)</th>\n",
              "      <td>0.795037</td>\n",
              "      <td>0.524176</td>\n",
              "      <td>0.238142</td>\n",
              "      <td>0.290295</td>\n",
              "      <td>1.000000</td>\n",
              "      <td>0.766654</td>\n",
              "      <td>0.173378</td>\n",
              "      <td>0.771407</td>\n",
              "      <td>0.410629</td>\n",
              "    </tr>\n",
              "    <tr>\n",
              "      <th>Cholesterol (mg)</th>\n",
              "      <td>0.940034</td>\n",
              "      <td>0.439811</td>\n",
              "      <td>0.161791</td>\n",
              "      <td>0.199477</td>\n",
              "      <td>0.766654</td>\n",
              "      <td>1.000000</td>\n",
              "      <td>0.342040</td>\n",
              "      <td>0.984196</td>\n",
              "      <td>0.360449</td>\n",
              "    </tr>\n",
              "    <tr>\n",
              "      <th>Dietary Fibre (g)</th>\n",
              "      <td>0.384292</td>\n",
              "      <td>0.131267</td>\n",
              "      <td>-0.093783</td>\n",
              "      <td>-0.060154</td>\n",
              "      <td>0.173378</td>\n",
              "      <td>0.342040</td>\n",
              "      <td>1.000000</td>\n",
              "      <td>0.184171</td>\n",
              "      <td>0.540274</td>\n",
              "    </tr>\n",
              "    <tr>\n",
              "      <th>Sugars (g)</th>\n",
              "      <td>0.909675</td>\n",
              "      <td>0.419887</td>\n",
              "      <td>0.179255</td>\n",
              "      <td>0.205969</td>\n",
              "      <td>0.771407</td>\n",
              "      <td>0.984196</td>\n",
              "      <td>0.184171</td>\n",
              "      <td>1.000000</td>\n",
              "      <td>0.263061</td>\n",
              "    </tr>\n",
              "    <tr>\n",
              "      <th>Protein (g)</th>\n",
              "      <td>0.578453</td>\n",
              "      <td>0.496317</td>\n",
              "      <td>0.287532</td>\n",
              "      <td>0.496233</td>\n",
              "      <td>0.410629</td>\n",
              "      <td>0.360449</td>\n",
              "      <td>0.540274</td>\n",
              "      <td>0.263061</td>\n",
              "      <td>1.000000</td>\n",
              "    </tr>\n",
              "  </tbody>\n",
              "</table>\n",
              "</div>"
            ],
            "text/plain": [
              "                           Calories  Trans Fat (g)   ...   Sugars (g)   Protein (g) \n",
              "Calories                   1.000000        0.642818  ...     0.909675       0.578453\n",
              "Trans Fat (g)              0.642818        1.000000  ...     0.419887       0.496317\n",
              "Saturated Fat (g)          0.331047        0.694871  ...     0.179255       0.287532\n",
              " Sodium (mg)               0.387892        0.707794  ...     0.205969       0.496233\n",
              " Total Carbohydrates (g)   0.795037        0.524176  ...     0.771407       0.410629\n",
              "Cholesterol (mg)           0.940034        0.439811  ...     0.984196       0.360449\n",
              " Dietary Fibre (g)         0.384292        0.131267  ...     0.184171       0.540274\n",
              " Sugars (g)                0.909675        0.419887  ...     1.000000       0.263061\n",
              " Protein (g)               0.578453        0.496317  ...     0.263061       1.000000\n",
              "\n",
              "[9 rows x 9 columns]"
            ]
          },
          "execution_count": 45,
          "metadata": {},
          "output_type": "execute_result"
        }
      ],
      "source": [
        "#How are our variables related to one another? Discover this with the .corr()\n",
        "\n",
        "df.corr()"
      ]
    },
    {
      "cell_type": "code",
      "execution_count": null,
      "metadata": {
        "id": "pWn8ke92dI-8"
      },
      "outputs": [],
      "source": [
        "#What do you notice? Are there any relationships that surprised you? Anything which seemed like common knowledge?\n",
        "\n"
      ]
    },
    {
      "cell_type": "markdown",
      "metadata": {
        "id": "6yznBZ2UeXKh"
      },
      "source": [
        "# Transforming Data\n",
        "\n",
        ">Now that we have explored the basic features of our data, its time to manipulate and subset our data for ease of use. Data cleaning can be a very involved task, but if you become comfortable with fundamental data manipulation tasks, your see great improvement in your workflow efficiency!\n",
        "\n",
        "> Two common actions which are used often in data manipulation are:\n",
        "*   Renaming Columns\n",
        "*   Subsetting Data\n",
        "\n",
        "\n"
      ]
    },
    {
      "cell_type": "markdown",
      "metadata": {
        "id": "bFEbkYqJf0Fs"
      },
      "source": [
        "# Renaming Columns\n",
        "\n",
        "> Renaming columns may seem like a trivial task, but it makes accessing data much easier if you can transform the names into a user friendly format.\n",
        "\n",
        ">Use the following function to rename a column in a data frame\n",
        "\n",
        "\n",
        "```\n",
        "# returns a new data frame with the changed column\n",
        "\n",
        "df.rename(columns={'old_column__name' : 'new_column_name'})\n",
        "\n",
        "\n",
        "```\n",
        "\n",
        ">Note: the ```{ : }``` data structure is known as a \"dictionary\" in python. It is a data structure used to hold key and value pair like so: ```{key : value}```\n",
        "\n",
        "\n",
        "> Lets say we we want to change multiple columns in one line of code, we can do this easily, by just adding it as another element within the dictionary\n",
        "\n",
        "\n",
        "\n",
        "```\n",
        "# Rename multiple columns from the dataframe\n",
        "\n",
        "df.rename(columns={'column_1' : 'new_column_1', 'column_2' : 'new_column_2', 'column_3' : 'new_column_3'})\n",
        "\n",
        "```\n",
        "\n",
        "\n",
        "\n"
      ]
    },
    {
      "cell_type": "code",
      "execution_count": null,
      "metadata": {
        "colab": {
          "base_uri": "https://localhost:8080/"
        },
        "id": "UpKFPD7SkIsC",
        "outputId": "39ca68bf-c672-46fe-a3b2-a99ea24d9df1"
      },
      "outputs": [
        {
          "data": {
            "text/plain": [
              "['Beverage_category',\n",
              " 'Beverage',\n",
              " 'Beverage_prep',\n",
              " 'Calories',\n",
              " ' Total Fat (g)',\n",
              " 'Trans Fat (g) ',\n",
              " 'Saturated Fat (g)',\n",
              " ' Sodium (mg)',\n",
              " ' Total Carbohydrates (g) ',\n",
              " 'Cholesterol (mg)',\n",
              " ' Dietary Fibre (g)',\n",
              " ' Sugars (g)',\n",
              " ' Protein (g) ',\n",
              " 'Vitamin A (% DV) ',\n",
              " 'Vitamin C (% DV)',\n",
              " ' Calcium (% DV) ',\n",
              " 'Iron (% DV) ',\n",
              " 'Caffeine (mg)']"
            ]
          },
          "execution_count": 46,
          "metadata": {},
          "output_type": "execute_result"
        }
      ],
      "source": [
        "#Lets first get a list of our column names\n",
        "list(df.columns)\n"
      ]
    },
    {
      "cell_type": "code",
      "execution_count": null,
      "metadata": {
        "id": "GlF11cyawG_w"
      },
      "outputs": [],
      "source": [
        "df"
      ]
    },
    {
      "cell_type": "code",
      "execution_count": null,
      "metadata": {
        "id": "Ofg_WF0xkRVN"
      },
      "outputs": [],
      "source": [
        "#Rename the ' Protein (g) ' column to \"Protein\"\n",
        "\n",
        "df.rename(columns={' Protein (g) ':'Protein'})\n"
      ]
    },
    {
      "cell_type": "code",
      "execution_count": null,
      "metadata": {
        "id": "Tod5X8Iw3jcx"
      },
      "outputs": [],
      "source": []
    },
    {
      "cell_type": "code",
      "execution_count": null,
      "metadata": {
        "colab": {
          "base_uri": "https://localhost:8080/",
          "height": 843
        },
        "id": "kPtG2be_kW0u",
        "outputId": "7cc1a421-1016-415a-ee51-18bd0e7d16b2"
      },
      "outputs": [
        {
          "data": {
            "text/html": [
              "<div>\n",
              "<style scoped>\n",
              "    .dataframe tbody tr th:only-of-type {\n",
              "        vertical-align: middle;\n",
              "    }\n",
              "\n",
              "    .dataframe tbody tr th {\n",
              "        vertical-align: top;\n",
              "    }\n",
              "\n",
              "    .dataframe thead th {\n",
              "        text-align: right;\n",
              "    }\n",
              "</style>\n",
              "<table border=\"1\" class=\"dataframe\">\n",
              "  <thead>\n",
              "    <tr style=\"text-align: right;\">\n",
              "      <th></th>\n",
              "      <th>Beverage_category</th>\n",
              "      <th>Beverage</th>\n",
              "      <th>Beverage_prep</th>\n",
              "      <th>Calories</th>\n",
              "      <th>Total Fat (g)</th>\n",
              "      <th>Trans_Fat</th>\n",
              "      <th>Saturated Fat (g)</th>\n",
              "      <th>Sodium (mg)</th>\n",
              "      <th>Total Carbohydrates (g)</th>\n",
              "      <th>Cholesterol (mg)</th>\n",
              "      <th>Dietary Fibre (g)</th>\n",
              "      <th>Sugars (g)</th>\n",
              "      <th>Protein (g)</th>\n",
              "      <th>Vitamin A (% DV)</th>\n",
              "      <th>Vitamin C (% DV)</th>\n",
              "      <th>Calcium (% DV)</th>\n",
              "      <th>Iron (% DV)</th>\n",
              "      <th>Caffeine (mg)</th>\n",
              "    </tr>\n",
              "  </thead>\n",
              "  <tbody>\n",
              "    <tr>\n",
              "      <th>0</th>\n",
              "      <td>Coffee</td>\n",
              "      <td>Brewed Coffee</td>\n",
              "      <td>Short</td>\n",
              "      <td>3</td>\n",
              "      <td>0.1</td>\n",
              "      <td>0.0</td>\n",
              "      <td>0.0</td>\n",
              "      <td>0</td>\n",
              "      <td>5</td>\n",
              "      <td>0</td>\n",
              "      <td>0</td>\n",
              "      <td>0</td>\n",
              "      <td>0.3</td>\n",
              "      <td>0%</td>\n",
              "      <td>0%</td>\n",
              "      <td>0%</td>\n",
              "      <td>0%</td>\n",
              "      <td>175</td>\n",
              "    </tr>\n",
              "    <tr>\n",
              "      <th>1</th>\n",
              "      <td>Coffee</td>\n",
              "      <td>Brewed Coffee</td>\n",
              "      <td>Tall</td>\n",
              "      <td>4</td>\n",
              "      <td>0.1</td>\n",
              "      <td>0.0</td>\n",
              "      <td>0.0</td>\n",
              "      <td>0</td>\n",
              "      <td>10</td>\n",
              "      <td>0</td>\n",
              "      <td>0</td>\n",
              "      <td>0</td>\n",
              "      <td>0.5</td>\n",
              "      <td>0%</td>\n",
              "      <td>0%</td>\n",
              "      <td>0%</td>\n",
              "      <td>0%</td>\n",
              "      <td>260</td>\n",
              "    </tr>\n",
              "    <tr>\n",
              "      <th>2</th>\n",
              "      <td>Coffee</td>\n",
              "      <td>Brewed Coffee</td>\n",
              "      <td>Grande</td>\n",
              "      <td>5</td>\n",
              "      <td>0.1</td>\n",
              "      <td>0.0</td>\n",
              "      <td>0.0</td>\n",
              "      <td>0</td>\n",
              "      <td>10</td>\n",
              "      <td>0</td>\n",
              "      <td>0</td>\n",
              "      <td>0</td>\n",
              "      <td>1.0</td>\n",
              "      <td>0%</td>\n",
              "      <td>0%</td>\n",
              "      <td>0%</td>\n",
              "      <td>0%</td>\n",
              "      <td>330</td>\n",
              "    </tr>\n",
              "    <tr>\n",
              "      <th>3</th>\n",
              "      <td>Coffee</td>\n",
              "      <td>Brewed Coffee</td>\n",
              "      <td>Venti</td>\n",
              "      <td>5</td>\n",
              "      <td>0.1</td>\n",
              "      <td>0.0</td>\n",
              "      <td>0.0</td>\n",
              "      <td>0</td>\n",
              "      <td>10</td>\n",
              "      <td>0</td>\n",
              "      <td>0</td>\n",
              "      <td>0</td>\n",
              "      <td>1.0</td>\n",
              "      <td>0%</td>\n",
              "      <td>0%</td>\n",
              "      <td>2%</td>\n",
              "      <td>0%</td>\n",
              "      <td>410</td>\n",
              "    </tr>\n",
              "    <tr>\n",
              "      <th>4</th>\n",
              "      <td>Classic Espresso Drinks</td>\n",
              "      <td>Caffè Latte</td>\n",
              "      <td>Short Nonfat Milk</td>\n",
              "      <td>70</td>\n",
              "      <td>0.1</td>\n",
              "      <td>0.1</td>\n",
              "      <td>0.0</td>\n",
              "      <td>5</td>\n",
              "      <td>75</td>\n",
              "      <td>10</td>\n",
              "      <td>0</td>\n",
              "      <td>9</td>\n",
              "      <td>6.0</td>\n",
              "      <td>10%</td>\n",
              "      <td>0%</td>\n",
              "      <td>20%</td>\n",
              "      <td>0%</td>\n",
              "      <td>75</td>\n",
              "    </tr>\n",
              "    <tr>\n",
              "      <th>...</th>\n",
              "      <td>...</td>\n",
              "      <td>...</td>\n",
              "      <td>...</td>\n",
              "      <td>...</td>\n",
              "      <td>...</td>\n",
              "      <td>...</td>\n",
              "      <td>...</td>\n",
              "      <td>...</td>\n",
              "      <td>...</td>\n",
              "      <td>...</td>\n",
              "      <td>...</td>\n",
              "      <td>...</td>\n",
              "      <td>...</td>\n",
              "      <td>...</td>\n",
              "      <td>...</td>\n",
              "      <td>...</td>\n",
              "      <td>...</td>\n",
              "      <td>...</td>\n",
              "    </tr>\n",
              "    <tr>\n",
              "      <th>237</th>\n",
              "      <td>Frappuccino® Blended Crème</td>\n",
              "      <td>Strawberries &amp; Crème (Without Whipped Cream)</td>\n",
              "      <td>Soymilk</td>\n",
              "      <td>320</td>\n",
              "      <td>3 2</td>\n",
              "      <td>0.4</td>\n",
              "      <td>0.0</td>\n",
              "      <td>0</td>\n",
              "      <td>250</td>\n",
              "      <td>67</td>\n",
              "      <td>1</td>\n",
              "      <td>64</td>\n",
              "      <td>5.0</td>\n",
              "      <td>6%</td>\n",
              "      <td>8%</td>\n",
              "      <td>20%</td>\n",
              "      <td>10%</td>\n",
              "      <td>0</td>\n",
              "    </tr>\n",
              "    <tr>\n",
              "      <th>238</th>\n",
              "      <td>Frappuccino® Blended Crème</td>\n",
              "      <td>Vanilla Bean (Without Whipped Cream)</td>\n",
              "      <td>Tall Nonfat Milk</td>\n",
              "      <td>170</td>\n",
              "      <td>0.1</td>\n",
              "      <td>0.1</td>\n",
              "      <td>0.0</td>\n",
              "      <td>0</td>\n",
              "      <td>160</td>\n",
              "      <td>39</td>\n",
              "      <td>0</td>\n",
              "      <td>38</td>\n",
              "      <td>4.0</td>\n",
              "      <td>6%</td>\n",
              "      <td>0%</td>\n",
              "      <td>10%</td>\n",
              "      <td>0%</td>\n",
              "      <td>0</td>\n",
              "    </tr>\n",
              "    <tr>\n",
              "      <th>239</th>\n",
              "      <td>Frappuccino® Blended Crème</td>\n",
              "      <td>Vanilla Bean (Without Whipped Cream)</td>\n",
              "      <td>Whole Milk</td>\n",
              "      <td>200</td>\n",
              "      <td>3.5</td>\n",
              "      <td>2.0</td>\n",
              "      <td>0.1</td>\n",
              "      <td>10</td>\n",
              "      <td>160</td>\n",
              "      <td>39</td>\n",
              "      <td>0</td>\n",
              "      <td>38</td>\n",
              "      <td>3.0</td>\n",
              "      <td>6%</td>\n",
              "      <td>0%</td>\n",
              "      <td>10%</td>\n",
              "      <td>0%</td>\n",
              "      <td>0</td>\n",
              "    </tr>\n",
              "    <tr>\n",
              "      <th>240</th>\n",
              "      <td>Frappuccino® Blended Crème</td>\n",
              "      <td>Vanilla Bean (Without Whipped Cream)</td>\n",
              "      <td>Soymilk</td>\n",
              "      <td>180</td>\n",
              "      <td>1.5</td>\n",
              "      <td>0.2</td>\n",
              "      <td>0.0</td>\n",
              "      <td>0</td>\n",
              "      <td>160</td>\n",
              "      <td>37</td>\n",
              "      <td>1</td>\n",
              "      <td>35</td>\n",
              "      <td>3.0</td>\n",
              "      <td>4%</td>\n",
              "      <td>0%</td>\n",
              "      <td>10%</td>\n",
              "      <td>6%</td>\n",
              "      <td>0</td>\n",
              "    </tr>\n",
              "    <tr>\n",
              "      <th>241</th>\n",
              "      <td>Frappuccino® Blended Crème</td>\n",
              "      <td>Vanilla Bean (Without Whipped Cream)</td>\n",
              "      <td>Grande Nonfat Milk</td>\n",
              "      <td>240</td>\n",
              "      <td>0.1</td>\n",
              "      <td>0.1</td>\n",
              "      <td>0.0</td>\n",
              "      <td>5</td>\n",
              "      <td>230</td>\n",
              "      <td>56</td>\n",
              "      <td>0</td>\n",
              "      <td>55</td>\n",
              "      <td>5.0</td>\n",
              "      <td>8%</td>\n",
              "      <td>0%</td>\n",
              "      <td>15%</td>\n",
              "      <td>0%</td>\n",
              "      <td>0</td>\n",
              "    </tr>\n",
              "  </tbody>\n",
              "</table>\n",
              "<p>242 rows × 18 columns</p>\n",
              "</div>"
            ],
            "text/plain": [
              "              Beverage_category  ... Caffeine (mg)\n",
              "0                        Coffee  ...           175\n",
              "1                        Coffee  ...           260\n",
              "2                        Coffee  ...           330\n",
              "3                        Coffee  ...           410\n",
              "4       Classic Espresso Drinks  ...            75\n",
              "..                          ...  ...           ...\n",
              "237  Frappuccino® Blended Crème  ...             0\n",
              "238  Frappuccino® Blended Crème  ...             0\n",
              "239  Frappuccino® Blended Crème  ...             0\n",
              "240  Frappuccino® Blended Crème  ...             0\n",
              "241  Frappuccino® Blended Crème  ...             0\n",
              "\n",
              "[242 rows x 18 columns]"
            ]
          },
          "execution_count": 50,
          "metadata": {},
          "output_type": "execute_result"
        }
      ],
      "source": [
        "#Rename the 'Trans Fat (g) ' column to \"Trans_Fat\"\n",
        "\n",
        "df.rename(columns={'Trans Fat (g) ':'Trans_Fat'})\n"
      ]
    },
    {
      "cell_type": "code",
      "execution_count": null,
      "metadata": {
        "id": "d1HYFsMf8fjN"
      },
      "outputs": [],
      "source": []
    },
    {
      "cell_type": "code",
      "execution_count": null,
      "metadata": {
        "colab": {
          "base_uri": "https://localhost:8080/",
          "height": 843
        },
        "id": "fztSl3EqlUuM",
        "outputId": "75bea9e5-0622-433f-8e0c-726ea40c7055"
      },
      "outputs": [
        {
          "data": {
            "text/html": [
              "<div>\n",
              "<style scoped>\n",
              "    .dataframe tbody tr th:only-of-type {\n",
              "        vertical-align: middle;\n",
              "    }\n",
              "\n",
              "    .dataframe tbody tr th {\n",
              "        vertical-align: top;\n",
              "    }\n",
              "\n",
              "    .dataframe thead th {\n",
              "        text-align: right;\n",
              "    }\n",
              "</style>\n",
              "<table border=\"1\" class=\"dataframe\">\n",
              "  <thead>\n",
              "    <tr style=\"text-align: right;\">\n",
              "      <th></th>\n",
              "      <th>Beverage_category</th>\n",
              "      <th>Beverage</th>\n",
              "      <th>Beverage_prep</th>\n",
              "      <th>Calories</th>\n",
              "      <th>Total Fat (g)</th>\n",
              "      <th>Trans Fat (g)</th>\n",
              "      <th>Saturated_Fat</th>\n",
              "      <th>Sodium (mg)</th>\n",
              "      <th>Total Carbohydrates (g)</th>\n",
              "      <th>Cholesterol (mg)</th>\n",
              "      <th>Dietary Fibre (g)</th>\n",
              "      <th>Sugars</th>\n",
              "      <th>Protein (g)</th>\n",
              "      <th>Vitamin A (% DV)</th>\n",
              "      <th>Vitamin C (% DV)</th>\n",
              "      <th>Calcium (% DV)</th>\n",
              "      <th>Iron (% DV)</th>\n",
              "      <th>Caffeine</th>\n",
              "    </tr>\n",
              "  </thead>\n",
              "  <tbody>\n",
              "    <tr>\n",
              "      <th>0</th>\n",
              "      <td>Coffee</td>\n",
              "      <td>Brewed Coffee</td>\n",
              "      <td>Short</td>\n",
              "      <td>3</td>\n",
              "      <td>0.1</td>\n",
              "      <td>0.0</td>\n",
              "      <td>0.0</td>\n",
              "      <td>0</td>\n",
              "      <td>5</td>\n",
              "      <td>0</td>\n",
              "      <td>0</td>\n",
              "      <td>0</td>\n",
              "      <td>0.3</td>\n",
              "      <td>0%</td>\n",
              "      <td>0%</td>\n",
              "      <td>0%</td>\n",
              "      <td>0%</td>\n",
              "      <td>175</td>\n",
              "    </tr>\n",
              "    <tr>\n",
              "      <th>1</th>\n",
              "      <td>Coffee</td>\n",
              "      <td>Brewed Coffee</td>\n",
              "      <td>Tall</td>\n",
              "      <td>4</td>\n",
              "      <td>0.1</td>\n",
              "      <td>0.0</td>\n",
              "      <td>0.0</td>\n",
              "      <td>0</td>\n",
              "      <td>10</td>\n",
              "      <td>0</td>\n",
              "      <td>0</td>\n",
              "      <td>0</td>\n",
              "      <td>0.5</td>\n",
              "      <td>0%</td>\n",
              "      <td>0%</td>\n",
              "      <td>0%</td>\n",
              "      <td>0%</td>\n",
              "      <td>260</td>\n",
              "    </tr>\n",
              "    <tr>\n",
              "      <th>2</th>\n",
              "      <td>Coffee</td>\n",
              "      <td>Brewed Coffee</td>\n",
              "      <td>Grande</td>\n",
              "      <td>5</td>\n",
              "      <td>0.1</td>\n",
              "      <td>0.0</td>\n",
              "      <td>0.0</td>\n",
              "      <td>0</td>\n",
              "      <td>10</td>\n",
              "      <td>0</td>\n",
              "      <td>0</td>\n",
              "      <td>0</td>\n",
              "      <td>1.0</td>\n",
              "      <td>0%</td>\n",
              "      <td>0%</td>\n",
              "      <td>0%</td>\n",
              "      <td>0%</td>\n",
              "      <td>330</td>\n",
              "    </tr>\n",
              "    <tr>\n",
              "      <th>3</th>\n",
              "      <td>Coffee</td>\n",
              "      <td>Brewed Coffee</td>\n",
              "      <td>Venti</td>\n",
              "      <td>5</td>\n",
              "      <td>0.1</td>\n",
              "      <td>0.0</td>\n",
              "      <td>0.0</td>\n",
              "      <td>0</td>\n",
              "      <td>10</td>\n",
              "      <td>0</td>\n",
              "      <td>0</td>\n",
              "      <td>0</td>\n",
              "      <td>1.0</td>\n",
              "      <td>0%</td>\n",
              "      <td>0%</td>\n",
              "      <td>2%</td>\n",
              "      <td>0%</td>\n",
              "      <td>410</td>\n",
              "    </tr>\n",
              "    <tr>\n",
              "      <th>4</th>\n",
              "      <td>Classic Espresso Drinks</td>\n",
              "      <td>Caffè Latte</td>\n",
              "      <td>Short Nonfat Milk</td>\n",
              "      <td>70</td>\n",
              "      <td>0.1</td>\n",
              "      <td>0.1</td>\n",
              "      <td>0.0</td>\n",
              "      <td>5</td>\n",
              "      <td>75</td>\n",
              "      <td>10</td>\n",
              "      <td>0</td>\n",
              "      <td>9</td>\n",
              "      <td>6.0</td>\n",
              "      <td>10%</td>\n",
              "      <td>0%</td>\n",
              "      <td>20%</td>\n",
              "      <td>0%</td>\n",
              "      <td>75</td>\n",
              "    </tr>\n",
              "    <tr>\n",
              "      <th>...</th>\n",
              "      <td>...</td>\n",
              "      <td>...</td>\n",
              "      <td>...</td>\n",
              "      <td>...</td>\n",
              "      <td>...</td>\n",
              "      <td>...</td>\n",
              "      <td>...</td>\n",
              "      <td>...</td>\n",
              "      <td>...</td>\n",
              "      <td>...</td>\n",
              "      <td>...</td>\n",
              "      <td>...</td>\n",
              "      <td>...</td>\n",
              "      <td>...</td>\n",
              "      <td>...</td>\n",
              "      <td>...</td>\n",
              "      <td>...</td>\n",
              "      <td>...</td>\n",
              "    </tr>\n",
              "    <tr>\n",
              "      <th>237</th>\n",
              "      <td>Frappuccino® Blended Crème</td>\n",
              "      <td>Strawberries &amp; Crème (Without Whipped Cream)</td>\n",
              "      <td>Soymilk</td>\n",
              "      <td>320</td>\n",
              "      <td>3 2</td>\n",
              "      <td>0.4</td>\n",
              "      <td>0.0</td>\n",
              "      <td>0</td>\n",
              "      <td>250</td>\n",
              "      <td>67</td>\n",
              "      <td>1</td>\n",
              "      <td>64</td>\n",
              "      <td>5.0</td>\n",
              "      <td>6%</td>\n",
              "      <td>8%</td>\n",
              "      <td>20%</td>\n",
              "      <td>10%</td>\n",
              "      <td>0</td>\n",
              "    </tr>\n",
              "    <tr>\n",
              "      <th>238</th>\n",
              "      <td>Frappuccino® Blended Crème</td>\n",
              "      <td>Vanilla Bean (Without Whipped Cream)</td>\n",
              "      <td>Tall Nonfat Milk</td>\n",
              "      <td>170</td>\n",
              "      <td>0.1</td>\n",
              "      <td>0.1</td>\n",
              "      <td>0.0</td>\n",
              "      <td>0</td>\n",
              "      <td>160</td>\n",
              "      <td>39</td>\n",
              "      <td>0</td>\n",
              "      <td>38</td>\n",
              "      <td>4.0</td>\n",
              "      <td>6%</td>\n",
              "      <td>0%</td>\n",
              "      <td>10%</td>\n",
              "      <td>0%</td>\n",
              "      <td>0</td>\n",
              "    </tr>\n",
              "    <tr>\n",
              "      <th>239</th>\n",
              "      <td>Frappuccino® Blended Crème</td>\n",
              "      <td>Vanilla Bean (Without Whipped Cream)</td>\n",
              "      <td>Whole Milk</td>\n",
              "      <td>200</td>\n",
              "      <td>3.5</td>\n",
              "      <td>2.0</td>\n",
              "      <td>0.1</td>\n",
              "      <td>10</td>\n",
              "      <td>160</td>\n",
              "      <td>39</td>\n",
              "      <td>0</td>\n",
              "      <td>38</td>\n",
              "      <td>3.0</td>\n",
              "      <td>6%</td>\n",
              "      <td>0%</td>\n",
              "      <td>10%</td>\n",
              "      <td>0%</td>\n",
              "      <td>0</td>\n",
              "    </tr>\n",
              "    <tr>\n",
              "      <th>240</th>\n",
              "      <td>Frappuccino® Blended Crème</td>\n",
              "      <td>Vanilla Bean (Without Whipped Cream)</td>\n",
              "      <td>Soymilk</td>\n",
              "      <td>180</td>\n",
              "      <td>1.5</td>\n",
              "      <td>0.2</td>\n",
              "      <td>0.0</td>\n",
              "      <td>0</td>\n",
              "      <td>160</td>\n",
              "      <td>37</td>\n",
              "      <td>1</td>\n",
              "      <td>35</td>\n",
              "      <td>3.0</td>\n",
              "      <td>4%</td>\n",
              "      <td>0%</td>\n",
              "      <td>10%</td>\n",
              "      <td>6%</td>\n",
              "      <td>0</td>\n",
              "    </tr>\n",
              "    <tr>\n",
              "      <th>241</th>\n",
              "      <td>Frappuccino® Blended Crème</td>\n",
              "      <td>Vanilla Bean (Without Whipped Cream)</td>\n",
              "      <td>Grande Nonfat Milk</td>\n",
              "      <td>240</td>\n",
              "      <td>0.1</td>\n",
              "      <td>0.1</td>\n",
              "      <td>0.0</td>\n",
              "      <td>5</td>\n",
              "      <td>230</td>\n",
              "      <td>56</td>\n",
              "      <td>0</td>\n",
              "      <td>55</td>\n",
              "      <td>5.0</td>\n",
              "      <td>8%</td>\n",
              "      <td>0%</td>\n",
              "      <td>15%</td>\n",
              "      <td>0%</td>\n",
              "      <td>0</td>\n",
              "    </tr>\n",
              "  </tbody>\n",
              "</table>\n",
              "<p>242 rows × 18 columns</p>\n",
              "</div>"
            ],
            "text/plain": [
              "              Beverage_category  ... Caffeine\n",
              "0                        Coffee  ...      175\n",
              "1                        Coffee  ...      260\n",
              "2                        Coffee  ...      330\n",
              "3                        Coffee  ...      410\n",
              "4       Classic Espresso Drinks  ...       75\n",
              "..                          ...  ...      ...\n",
              "237  Frappuccino® Blended Crème  ...        0\n",
              "238  Frappuccino® Blended Crème  ...        0\n",
              "239  Frappuccino® Blended Crème  ...        0\n",
              "240  Frappuccino® Blended Crème  ...        0\n",
              "241  Frappuccino® Blended Crème  ...        0\n",
              "\n",
              "[242 rows x 18 columns]"
            ]
          },
          "execution_count": 51,
          "metadata": {},
          "output_type": "execute_result"
        }
      ],
      "source": [
        "#Rename the 'Caffeine (mg)' column to Caffeine, ' Sugars (g)' to 'Sugars' and 'Saturated Fat (g)' to Saturated_Fat\n",
        "\n",
        "rename_dict = {'Caffeine (mg)':'Caffeine', ' Sugars (g)':'Sugars', 'Saturated Fat (g)':'Saturated_Fat'}\n",
        "\n",
        "df.rename(columns=rename_dict)\n"
      ]
    },
    {
      "cell_type": "markdown",
      "metadata": {
        "id": "LDk4JY-VlzAx"
      },
      "source": [
        "# Subsetting Data\n",
        "\n",
        "> Subsetting data is one of the most common tasks in a data science project. Often times we don't want to work with the entire dataset at once, and we may want to work with a sample of it instead.\n",
        "\n",
        ">The great thing is, there is nothing new to learn here, because we have already been doing this! So far we have only been subsetting one column, but to subset multiple column, we can do it like so:\n",
        "\n",
        "\n",
        "```\n",
        "# Returning one column:\n",
        "\n",
        "df['column_name']\n",
        "\n",
        "\n",
        "\n",
        "#Returning multiple:\n",
        "\n",
        "df[['column_1_name', 'column_2_name', 'column_3_name']]\n",
        "\n",
        "\n",
        "or\n",
        "\n",
        "\n",
        "#Specify an array of columns and pass it in\n",
        "\n",
        "arr = ['column_1_name', 'column_2_name', 'column_3_name']\n",
        "\n",
        "df[arr]\n",
        "\n",
        "\n",
        "#We can even save this subsetted data frame to another object\n",
        "\n",
        "arr = ['column_1_name', 'column_2_name', 'column_3_name']\n",
        "\n",
        "new_df = df[arr]\n",
        "\n",
        "\n",
        "```\n",
        "\n",
        "> The only difference between subsetting one column, and subsetting multiple, is that all we need to do is pass an array of column name strings, and we get our filtered data frame!"
      ]
    },
    {
      "cell_type": "code",
      "execution_count": null,
      "metadata": {
        "colab": {
          "base_uri": "https://localhost:8080/"
        },
        "id": "daRuOO8G4S7g",
        "outputId": "078aa2cf-7fb2-48e4-cef4-c1ad98840f22"
      },
      "outputs": [
        {
          "data": {
            "text/plain": [
              "['Beverage_category',\n",
              " 'Beverage',\n",
              " 'Beverage_prep',\n",
              " 'Calories',\n",
              " ' Total Fat (g)',\n",
              " 'Trans Fat (g) ',\n",
              " 'Saturated Fat (g)',\n",
              " ' Sodium (mg)',\n",
              " ' Total Carbohydrates (g) ',\n",
              " 'Cholesterol (mg)',\n",
              " ' Dietary Fibre (g)',\n",
              " ' Sugars (g)',\n",
              " ' Protein (g) ',\n",
              " 'Vitamin A (% DV) ',\n",
              " 'Vitamin C (% DV)',\n",
              " ' Calcium (% DV) ',\n",
              " 'Iron (% DV) ',\n",
              " 'Caffeine (mg)']"
            ]
          },
          "execution_count": 52,
          "metadata": {},
          "output_type": "execute_result"
        }
      ],
      "source": [
        "list(df.columns)"
      ]
    },
    {
      "cell_type": "code",
      "execution_count": null,
      "metadata": {
        "colab": {
          "base_uri": "https://localhost:8080/",
          "height": 423
        },
        "id": "3OA0Fhf2nn7n",
        "outputId": "b6aea4d3-5885-4a69-8106-50ff268069eb"
      },
      "outputs": [
        {
          "data": {
            "text/html": [
              "<div>\n",
              "<style scoped>\n",
              "    .dataframe tbody tr th:only-of-type {\n",
              "        vertical-align: middle;\n",
              "    }\n",
              "\n",
              "    .dataframe tbody tr th {\n",
              "        vertical-align: top;\n",
              "    }\n",
              "\n",
              "    .dataframe thead th {\n",
              "        text-align: right;\n",
              "    }\n",
              "</style>\n",
              "<table border=\"1\" class=\"dataframe\">\n",
              "  <thead>\n",
              "    <tr style=\"text-align: right;\">\n",
              "      <th></th>\n",
              "      <th>Beverage_category</th>\n",
              "      <th>Beverage_prep</th>\n",
              "      <th>Calories</th>\n",
              "    </tr>\n",
              "  </thead>\n",
              "  <tbody>\n",
              "    <tr>\n",
              "      <th>0</th>\n",
              "      <td>Coffee</td>\n",
              "      <td>Short</td>\n",
              "      <td>3</td>\n",
              "    </tr>\n",
              "    <tr>\n",
              "      <th>1</th>\n",
              "      <td>Coffee</td>\n",
              "      <td>Tall</td>\n",
              "      <td>4</td>\n",
              "    </tr>\n",
              "    <tr>\n",
              "      <th>2</th>\n",
              "      <td>Coffee</td>\n",
              "      <td>Grande</td>\n",
              "      <td>5</td>\n",
              "    </tr>\n",
              "    <tr>\n",
              "      <th>3</th>\n",
              "      <td>Coffee</td>\n",
              "      <td>Venti</td>\n",
              "      <td>5</td>\n",
              "    </tr>\n",
              "    <tr>\n",
              "      <th>4</th>\n",
              "      <td>Classic Espresso Drinks</td>\n",
              "      <td>Short Nonfat Milk</td>\n",
              "      <td>70</td>\n",
              "    </tr>\n",
              "    <tr>\n",
              "      <th>...</th>\n",
              "      <td>...</td>\n",
              "      <td>...</td>\n",
              "      <td>...</td>\n",
              "    </tr>\n",
              "    <tr>\n",
              "      <th>237</th>\n",
              "      <td>Frappuccino® Blended Crème</td>\n",
              "      <td>Soymilk</td>\n",
              "      <td>320</td>\n",
              "    </tr>\n",
              "    <tr>\n",
              "      <th>238</th>\n",
              "      <td>Frappuccino® Blended Crème</td>\n",
              "      <td>Tall Nonfat Milk</td>\n",
              "      <td>170</td>\n",
              "    </tr>\n",
              "    <tr>\n",
              "      <th>239</th>\n",
              "      <td>Frappuccino® Blended Crème</td>\n",
              "      <td>Whole Milk</td>\n",
              "      <td>200</td>\n",
              "    </tr>\n",
              "    <tr>\n",
              "      <th>240</th>\n",
              "      <td>Frappuccino® Blended Crème</td>\n",
              "      <td>Soymilk</td>\n",
              "      <td>180</td>\n",
              "    </tr>\n",
              "    <tr>\n",
              "      <th>241</th>\n",
              "      <td>Frappuccino® Blended Crème</td>\n",
              "      <td>Grande Nonfat Milk</td>\n",
              "      <td>240</td>\n",
              "    </tr>\n",
              "  </tbody>\n",
              "</table>\n",
              "<p>242 rows × 3 columns</p>\n",
              "</div>"
            ],
            "text/plain": [
              "              Beverage_category       Beverage_prep  Calories\n",
              "0                        Coffee               Short         3\n",
              "1                        Coffee                Tall         4\n",
              "2                        Coffee              Grande         5\n",
              "3                        Coffee               Venti         5\n",
              "4       Classic Espresso Drinks   Short Nonfat Milk        70\n",
              "..                          ...                 ...       ...\n",
              "237  Frappuccino® Blended Crème             Soymilk       320\n",
              "238  Frappuccino® Blended Crème    Tall Nonfat Milk       170\n",
              "239  Frappuccino® Blended Crème          Whole Milk       200\n",
              "240  Frappuccino® Blended Crème             Soymilk       180\n",
              "241  Frappuccino® Blended Crème  Grande Nonfat Milk       240\n",
              "\n",
              "[242 rows x 3 columns]"
            ]
          },
          "execution_count": 53,
          "metadata": {},
          "output_type": "execute_result"
        }
      ],
      "source": [
        "#select the Beverage Category, Beverage, Beverage Prep and Calories columns, save it to a variable: data_subset\n",
        "data_subset = df[['Beverage_category', 'Beverage_prep', 'Calories']]\n",
        "\n",
        "data_subset"
      ]
    },
    {
      "cell_type": "code",
      "execution_count": null,
      "metadata": {
        "colab": {
          "base_uri": "https://localhost:8080/",
          "height": 423
        },
        "id": "h6jAXvfloMZm",
        "outputId": "1193267c-aa21-4235-9bf0-34491d057b3c"
      },
      "outputs": [
        {
          "data": {
            "text/html": [
              "<div>\n",
              "<style scoped>\n",
              "    .dataframe tbody tr th:only-of-type {\n",
              "        vertical-align: middle;\n",
              "    }\n",
              "\n",
              "    .dataframe tbody tr th {\n",
              "        vertical-align: top;\n",
              "    }\n",
              "\n",
              "    .dataframe thead th {\n",
              "        text-align: right;\n",
              "    }\n",
              "</style>\n",
              "<table border=\"1\" class=\"dataframe\">\n",
              "  <thead>\n",
              "    <tr style=\"text-align: right;\">\n",
              "      <th></th>\n",
              "      <th>Beverage_category</th>\n",
              "      <th>Beverage_prep</th>\n",
              "    </tr>\n",
              "  </thead>\n",
              "  <tbody>\n",
              "    <tr>\n",
              "      <th>0</th>\n",
              "      <td>Coffee</td>\n",
              "      <td>Short</td>\n",
              "    </tr>\n",
              "    <tr>\n",
              "      <th>1</th>\n",
              "      <td>Coffee</td>\n",
              "      <td>Tall</td>\n",
              "    </tr>\n",
              "    <tr>\n",
              "      <th>2</th>\n",
              "      <td>Coffee</td>\n",
              "      <td>Grande</td>\n",
              "    </tr>\n",
              "    <tr>\n",
              "      <th>3</th>\n",
              "      <td>Coffee</td>\n",
              "      <td>Venti</td>\n",
              "    </tr>\n",
              "    <tr>\n",
              "      <th>4</th>\n",
              "      <td>Classic Espresso Drinks</td>\n",
              "      <td>Short Nonfat Milk</td>\n",
              "    </tr>\n",
              "    <tr>\n",
              "      <th>...</th>\n",
              "      <td>...</td>\n",
              "      <td>...</td>\n",
              "    </tr>\n",
              "    <tr>\n",
              "      <th>237</th>\n",
              "      <td>Frappuccino® Blended Crème</td>\n",
              "      <td>Soymilk</td>\n",
              "    </tr>\n",
              "    <tr>\n",
              "      <th>238</th>\n",
              "      <td>Frappuccino® Blended Crème</td>\n",
              "      <td>Tall Nonfat Milk</td>\n",
              "    </tr>\n",
              "    <tr>\n",
              "      <th>239</th>\n",
              "      <td>Frappuccino® Blended Crème</td>\n",
              "      <td>Whole Milk</td>\n",
              "    </tr>\n",
              "    <tr>\n",
              "      <th>240</th>\n",
              "      <td>Frappuccino® Blended Crème</td>\n",
              "      <td>Soymilk</td>\n",
              "    </tr>\n",
              "    <tr>\n",
              "      <th>241</th>\n",
              "      <td>Frappuccino® Blended Crème</td>\n",
              "      <td>Grande Nonfat Milk</td>\n",
              "    </tr>\n",
              "  </tbody>\n",
              "</table>\n",
              "<p>242 rows × 2 columns</p>\n",
              "</div>"
            ],
            "text/plain": [
              "              Beverage_category       Beverage_prep\n",
              "0                        Coffee               Short\n",
              "1                        Coffee                Tall\n",
              "2                        Coffee              Grande\n",
              "3                        Coffee               Venti\n",
              "4       Classic Espresso Drinks   Short Nonfat Milk\n",
              "..                          ...                 ...\n",
              "237  Frappuccino® Blended Crème             Soymilk\n",
              "238  Frappuccino® Blended Crème    Tall Nonfat Milk\n",
              "239  Frappuccino® Blended Crème          Whole Milk\n",
              "240  Frappuccino® Blended Crème             Soymilk\n",
              "241  Frappuccino® Blended Crème  Grande Nonfat Milk\n",
              "\n",
              "[242 rows x 2 columns]"
            ]
          },
          "execution_count": 54,
          "metadata": {},
          "output_type": "execute_result"
        }
      ],
      "source": [
        "#Select the Beverage Category and Beverage Prep columns, and save it to a new object: bev_info\n",
        "\n",
        "subset_arr = ['Beverage_category', 'Beverage_prep']\n",
        "\n",
        "bev_info = df[subset_arr]\n",
        "\n",
        "bev_info"
      ]
    },
    {
      "cell_type": "code",
      "execution_count": null,
      "metadata": {
        "id": "R70dBw4Unaqj"
      },
      "outputs": [],
      "source": [
        "#Select the Beverage and the calories from data_subset, and save the result to a new object: bev_nutrition\n",
        "\n",
        "\n",
        "\n",
        "bev_nutrition = data_subset[['Beverage_category', 'Calories']]\n",
        "\n",
        "bev_nutrition\n"
      ]
    },
    {
      "cell_type": "code",
      "execution_count": null,
      "metadata": {
        "colab": {
          "base_uri": "https://localhost:8080/"
        },
        "id": "bDDiKm0P1Ky7",
        "outputId": "913ae493-b285-4814-f8f4-6808d5f595db"
      },
      "outputs": [
        {
          "data": {
            "text/plain": [
              "Index(['Beverage_category', 'Beverage', 'Beverage_prep', 'Calories',\n",
              "       ' Total Fat (g)', 'Trans Fat (g) ', 'Saturated Fat (g)', ' Sodium (mg)',\n",
              "       ' Total Carbohydrates (g) ', 'Cholesterol (mg)', ' Dietary Fibre (g)',\n",
              "       ' Sugars (g)', ' Protein (g) ', 'Vitamin A (% DV) ', 'Vitamin C (% DV)',\n",
              "       ' Calcium (% DV) ', 'Iron (% DV) ', 'Caffeine (mg)'],\n",
              "      dtype='object')"
            ]
          },
          "execution_count": 59,
          "metadata": {},
          "output_type": "execute_result"
        }
      ],
      "source": [
        "df.columns"
      ]
    },
    {
      "cell_type": "code",
      "execution_count": null,
      "metadata": {
        "colab": {
          "base_uri": "https://localhost:8080/",
          "height": 423
        },
        "id": "cEKt0r2ApJoh",
        "outputId": "afb6eb00-057a-49b4-cca2-0e7c6c13d347"
      },
      "outputs": [
        {
          "data": {
            "text/html": [
              "<div>\n",
              "<style scoped>\n",
              "    .dataframe tbody tr th:only-of-type {\n",
              "        vertical-align: middle;\n",
              "    }\n",
              "\n",
              "    .dataframe tbody tr th {\n",
              "        vertical-align: top;\n",
              "    }\n",
              "\n",
              "    .dataframe thead th {\n",
              "        text-align: right;\n",
              "    }\n",
              "</style>\n",
              "<table border=\"1\" class=\"dataframe\">\n",
              "  <thead>\n",
              "    <tr style=\"text-align: right;\">\n",
              "      <th></th>\n",
              "      <th>Beverage_category</th>\n",
              "      <th>Beverage_prep</th>\n",
              "      <th>Calories</th>\n",
              "    </tr>\n",
              "  </thead>\n",
              "  <tbody>\n",
              "    <tr>\n",
              "      <th>0</th>\n",
              "      <td>Coffee</td>\n",
              "      <td>Short</td>\n",
              "      <td>3</td>\n",
              "    </tr>\n",
              "    <tr>\n",
              "      <th>1</th>\n",
              "      <td>Coffee</td>\n",
              "      <td>Tall</td>\n",
              "      <td>4</td>\n",
              "    </tr>\n",
              "    <tr>\n",
              "      <th>2</th>\n",
              "      <td>Coffee</td>\n",
              "      <td>Grande</td>\n",
              "      <td>5</td>\n",
              "    </tr>\n",
              "    <tr>\n",
              "      <th>3</th>\n",
              "      <td>Coffee</td>\n",
              "      <td>Venti</td>\n",
              "      <td>5</td>\n",
              "    </tr>\n",
              "    <tr>\n",
              "      <th>4</th>\n",
              "      <td>Classic Espresso Drinks</td>\n",
              "      <td>Short Nonfat Milk</td>\n",
              "      <td>70</td>\n",
              "    </tr>\n",
              "    <tr>\n",
              "      <th>...</th>\n",
              "      <td>...</td>\n",
              "      <td>...</td>\n",
              "      <td>...</td>\n",
              "    </tr>\n",
              "    <tr>\n",
              "      <th>237</th>\n",
              "      <td>Frappuccino® Blended Crème</td>\n",
              "      <td>Soymilk</td>\n",
              "      <td>320</td>\n",
              "    </tr>\n",
              "    <tr>\n",
              "      <th>238</th>\n",
              "      <td>Frappuccino® Blended Crème</td>\n",
              "      <td>Tall Nonfat Milk</td>\n",
              "      <td>170</td>\n",
              "    </tr>\n",
              "    <tr>\n",
              "      <th>239</th>\n",
              "      <td>Frappuccino® Blended Crème</td>\n",
              "      <td>Whole Milk</td>\n",
              "      <td>200</td>\n",
              "    </tr>\n",
              "    <tr>\n",
              "      <th>240</th>\n",
              "      <td>Frappuccino® Blended Crème</td>\n",
              "      <td>Soymilk</td>\n",
              "      <td>180</td>\n",
              "    </tr>\n",
              "    <tr>\n",
              "      <th>241</th>\n",
              "      <td>Frappuccino® Blended Crème</td>\n",
              "      <td>Grande Nonfat Milk</td>\n",
              "      <td>240</td>\n",
              "    </tr>\n",
              "  </tbody>\n",
              "</table>\n",
              "<p>242 rows × 3 columns</p>\n",
              "</div>"
            ],
            "text/plain": [
              "              Beverage_category       Beverage_prep  Calories\n",
              "0                        Coffee               Short         3\n",
              "1                        Coffee                Tall         4\n",
              "2                        Coffee              Grande         5\n",
              "3                        Coffee               Venti         5\n",
              "4       Classic Espresso Drinks   Short Nonfat Milk        70\n",
              "..                          ...                 ...       ...\n",
              "237  Frappuccino® Blended Crème             Soymilk       320\n",
              "238  Frappuccino® Blended Crème    Tall Nonfat Milk       170\n",
              "239  Frappuccino® Blended Crème          Whole Milk       200\n",
              "240  Frappuccino® Blended Crème             Soymilk       180\n",
              "241  Frappuccino® Blended Crème  Grande Nonfat Milk       240\n",
              "\n",
              "[242 rows x 3 columns]"
            ]
          },
          "execution_count": 56,
          "metadata": {},
          "output_type": "execute_result"
        }
      ],
      "source": [
        "#What happened to our data_subset object? is it empty?\n",
        "\n",
        "data_subset"
      ]
    },
    {
      "cell_type": "code",
      "execution_count": null,
      "metadata": {
        "colab": {
          "base_uri": "https://localhost:8080/",
          "height": 843
        },
        "id": "Gdv5JiXApPlp",
        "outputId": "be7c63ff-d118-450a-d763-e53d91e8d191"
      },
      "outputs": [
        {
          "data": {
            "text/html": [
              "<div>\n",
              "<style scoped>\n",
              "    .dataframe tbody tr th:only-of-type {\n",
              "        vertical-align: middle;\n",
              "    }\n",
              "\n",
              "    .dataframe tbody tr th {\n",
              "        vertical-align: top;\n",
              "    }\n",
              "\n",
              "    .dataframe thead th {\n",
              "        text-align: right;\n",
              "    }\n",
              "</style>\n",
              "<table border=\"1\" class=\"dataframe\">\n",
              "  <thead>\n",
              "    <tr style=\"text-align: right;\">\n",
              "      <th></th>\n",
              "      <th>Beverage_category</th>\n",
              "      <th>Beverage</th>\n",
              "      <th>Beverage_prep</th>\n",
              "      <th>Calories</th>\n",
              "      <th>Total Fat (g)</th>\n",
              "      <th>Trans Fat (g)</th>\n",
              "      <th>Saturated Fat (g)</th>\n",
              "      <th>Sodium (mg)</th>\n",
              "      <th>Total Carbohydrates (g)</th>\n",
              "      <th>Cholesterol (mg)</th>\n",
              "      <th>Dietary Fibre (g)</th>\n",
              "      <th>Sugars (g)</th>\n",
              "      <th>Protein (g)</th>\n",
              "      <th>Vitamin A (% DV)</th>\n",
              "      <th>Vitamin C (% DV)</th>\n",
              "      <th>Calcium (% DV)</th>\n",
              "      <th>Iron (% DV)</th>\n",
              "      <th>Caffeine (mg)</th>\n",
              "    </tr>\n",
              "  </thead>\n",
              "  <tbody>\n",
              "    <tr>\n",
              "      <th>0</th>\n",
              "      <td>Coffee</td>\n",
              "      <td>Brewed Coffee</td>\n",
              "      <td>Short</td>\n",
              "      <td>3</td>\n",
              "      <td>0.1</td>\n",
              "      <td>0.0</td>\n",
              "      <td>0.0</td>\n",
              "      <td>0</td>\n",
              "      <td>5</td>\n",
              "      <td>0</td>\n",
              "      <td>0</td>\n",
              "      <td>0</td>\n",
              "      <td>0.3</td>\n",
              "      <td>0%</td>\n",
              "      <td>0%</td>\n",
              "      <td>0%</td>\n",
              "      <td>0%</td>\n",
              "      <td>175</td>\n",
              "    </tr>\n",
              "    <tr>\n",
              "      <th>1</th>\n",
              "      <td>Coffee</td>\n",
              "      <td>Brewed Coffee</td>\n",
              "      <td>Tall</td>\n",
              "      <td>4</td>\n",
              "      <td>0.1</td>\n",
              "      <td>0.0</td>\n",
              "      <td>0.0</td>\n",
              "      <td>0</td>\n",
              "      <td>10</td>\n",
              "      <td>0</td>\n",
              "      <td>0</td>\n",
              "      <td>0</td>\n",
              "      <td>0.5</td>\n",
              "      <td>0%</td>\n",
              "      <td>0%</td>\n",
              "      <td>0%</td>\n",
              "      <td>0%</td>\n",
              "      <td>260</td>\n",
              "    </tr>\n",
              "    <tr>\n",
              "      <th>2</th>\n",
              "      <td>Coffee</td>\n",
              "      <td>Brewed Coffee</td>\n",
              "      <td>Grande</td>\n",
              "      <td>5</td>\n",
              "      <td>0.1</td>\n",
              "      <td>0.0</td>\n",
              "      <td>0.0</td>\n",
              "      <td>0</td>\n",
              "      <td>10</td>\n",
              "      <td>0</td>\n",
              "      <td>0</td>\n",
              "      <td>0</td>\n",
              "      <td>1.0</td>\n",
              "      <td>0%</td>\n",
              "      <td>0%</td>\n",
              "      <td>0%</td>\n",
              "      <td>0%</td>\n",
              "      <td>330</td>\n",
              "    </tr>\n",
              "    <tr>\n",
              "      <th>3</th>\n",
              "      <td>Coffee</td>\n",
              "      <td>Brewed Coffee</td>\n",
              "      <td>Venti</td>\n",
              "      <td>5</td>\n",
              "      <td>0.1</td>\n",
              "      <td>0.0</td>\n",
              "      <td>0.0</td>\n",
              "      <td>0</td>\n",
              "      <td>10</td>\n",
              "      <td>0</td>\n",
              "      <td>0</td>\n",
              "      <td>0</td>\n",
              "      <td>1.0</td>\n",
              "      <td>0%</td>\n",
              "      <td>0%</td>\n",
              "      <td>2%</td>\n",
              "      <td>0%</td>\n",
              "      <td>410</td>\n",
              "    </tr>\n",
              "    <tr>\n",
              "      <th>4</th>\n",
              "      <td>Classic Espresso Drinks</td>\n",
              "      <td>Caffè Latte</td>\n",
              "      <td>Short Nonfat Milk</td>\n",
              "      <td>70</td>\n",
              "      <td>0.1</td>\n",
              "      <td>0.1</td>\n",
              "      <td>0.0</td>\n",
              "      <td>5</td>\n",
              "      <td>75</td>\n",
              "      <td>10</td>\n",
              "      <td>0</td>\n",
              "      <td>9</td>\n",
              "      <td>6.0</td>\n",
              "      <td>10%</td>\n",
              "      <td>0%</td>\n",
              "      <td>20%</td>\n",
              "      <td>0%</td>\n",
              "      <td>75</td>\n",
              "    </tr>\n",
              "    <tr>\n",
              "      <th>...</th>\n",
              "      <td>...</td>\n",
              "      <td>...</td>\n",
              "      <td>...</td>\n",
              "      <td>...</td>\n",
              "      <td>...</td>\n",
              "      <td>...</td>\n",
              "      <td>...</td>\n",
              "      <td>...</td>\n",
              "      <td>...</td>\n",
              "      <td>...</td>\n",
              "      <td>...</td>\n",
              "      <td>...</td>\n",
              "      <td>...</td>\n",
              "      <td>...</td>\n",
              "      <td>...</td>\n",
              "      <td>...</td>\n",
              "      <td>...</td>\n",
              "      <td>...</td>\n",
              "    </tr>\n",
              "    <tr>\n",
              "      <th>237</th>\n",
              "      <td>Frappuccino® Blended Crème</td>\n",
              "      <td>Strawberries &amp; Crème (Without Whipped Cream)</td>\n",
              "      <td>Soymilk</td>\n",
              "      <td>320</td>\n",
              "      <td>3 2</td>\n",
              "      <td>0.4</td>\n",
              "      <td>0.0</td>\n",
              "      <td>0</td>\n",
              "      <td>250</td>\n",
              "      <td>67</td>\n",
              "      <td>1</td>\n",
              "      <td>64</td>\n",
              "      <td>5.0</td>\n",
              "      <td>6%</td>\n",
              "      <td>8%</td>\n",
              "      <td>20%</td>\n",
              "      <td>10%</td>\n",
              "      <td>0</td>\n",
              "    </tr>\n",
              "    <tr>\n",
              "      <th>238</th>\n",
              "      <td>Frappuccino® Blended Crème</td>\n",
              "      <td>Vanilla Bean (Without Whipped Cream)</td>\n",
              "      <td>Tall Nonfat Milk</td>\n",
              "      <td>170</td>\n",
              "      <td>0.1</td>\n",
              "      <td>0.1</td>\n",
              "      <td>0.0</td>\n",
              "      <td>0</td>\n",
              "      <td>160</td>\n",
              "      <td>39</td>\n",
              "      <td>0</td>\n",
              "      <td>38</td>\n",
              "      <td>4.0</td>\n",
              "      <td>6%</td>\n",
              "      <td>0%</td>\n",
              "      <td>10%</td>\n",
              "      <td>0%</td>\n",
              "      <td>0</td>\n",
              "    </tr>\n",
              "    <tr>\n",
              "      <th>239</th>\n",
              "      <td>Frappuccino® Blended Crème</td>\n",
              "      <td>Vanilla Bean (Without Whipped Cream)</td>\n",
              "      <td>Whole Milk</td>\n",
              "      <td>200</td>\n",
              "      <td>3.5</td>\n",
              "      <td>2.0</td>\n",
              "      <td>0.1</td>\n",
              "      <td>10</td>\n",
              "      <td>160</td>\n",
              "      <td>39</td>\n",
              "      <td>0</td>\n",
              "      <td>38</td>\n",
              "      <td>3.0</td>\n",
              "      <td>6%</td>\n",
              "      <td>0%</td>\n",
              "      <td>10%</td>\n",
              "      <td>0%</td>\n",
              "      <td>0</td>\n",
              "    </tr>\n",
              "    <tr>\n",
              "      <th>240</th>\n",
              "      <td>Frappuccino® Blended Crème</td>\n",
              "      <td>Vanilla Bean (Without Whipped Cream)</td>\n",
              "      <td>Soymilk</td>\n",
              "      <td>180</td>\n",
              "      <td>1.5</td>\n",
              "      <td>0.2</td>\n",
              "      <td>0.0</td>\n",
              "      <td>0</td>\n",
              "      <td>160</td>\n",
              "      <td>37</td>\n",
              "      <td>1</td>\n",
              "      <td>35</td>\n",
              "      <td>3.0</td>\n",
              "      <td>4%</td>\n",
              "      <td>0%</td>\n",
              "      <td>10%</td>\n",
              "      <td>6%</td>\n",
              "      <td>0</td>\n",
              "    </tr>\n",
              "    <tr>\n",
              "      <th>241</th>\n",
              "      <td>Frappuccino® Blended Crème</td>\n",
              "      <td>Vanilla Bean (Without Whipped Cream)</td>\n",
              "      <td>Grande Nonfat Milk</td>\n",
              "      <td>240</td>\n",
              "      <td>0.1</td>\n",
              "      <td>0.1</td>\n",
              "      <td>0.0</td>\n",
              "      <td>5</td>\n",
              "      <td>230</td>\n",
              "      <td>56</td>\n",
              "      <td>0</td>\n",
              "      <td>55</td>\n",
              "      <td>5.0</td>\n",
              "      <td>8%</td>\n",
              "      <td>0%</td>\n",
              "      <td>15%</td>\n",
              "      <td>0%</td>\n",
              "      <td>0</td>\n",
              "    </tr>\n",
              "  </tbody>\n",
              "</table>\n",
              "<p>242 rows × 18 columns</p>\n",
              "</div>"
            ],
            "text/plain": [
              "              Beverage_category  ... Caffeine (mg)\n",
              "0                        Coffee  ...           175\n",
              "1                        Coffee  ...           260\n",
              "2                        Coffee  ...           330\n",
              "3                        Coffee  ...           410\n",
              "4       Classic Espresso Drinks  ...            75\n",
              "..                          ...  ...           ...\n",
              "237  Frappuccino® Blended Crème  ...             0\n",
              "238  Frappuccino® Blended Crème  ...             0\n",
              "239  Frappuccino® Blended Crème  ...             0\n",
              "240  Frappuccino® Blended Crème  ...             0\n",
              "241  Frappuccino® Blended Crème  ...             0\n",
              "\n",
              "[242 rows x 18 columns]"
            ]
          },
          "execution_count": 57,
          "metadata": {},
          "output_type": "execute_result"
        }
      ],
      "source": [
        "#What about our original df object?\n",
        "\n",
        "df"
      ]
    }
  ],
  "metadata": {
    "colab": {
      "provenance": [],
      "include_colab_link": true
    },
    "kernelspec": {
      "display_name": "Python 3",
      "name": "python3"
    }
  },
  "nbformat": 4,
  "nbformat_minor": 0
}